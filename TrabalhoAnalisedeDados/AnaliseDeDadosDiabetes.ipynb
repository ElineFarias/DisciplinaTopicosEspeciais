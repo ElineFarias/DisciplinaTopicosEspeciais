{
  "nbformat": 4,
  "nbformat_minor": 0,
  "metadata": {
    "colab": {
      "name": "AnaliseDeDadosDiabetes.ipynb",
      "provenance": [],
      "collapsed_sections": []
    },
    "kernelspec": {
      "name": "python3",
      "display_name": "Python 3"
    }
  },
  "cells": [
    {
      "cell_type": "markdown",
      "metadata": {
        "id": "3Ai7RlcjLHXG"
      },
      "source": [
        "#**Classificação dataset Diabetes** <br>"
      ]
    },
    {
      "cell_type": "markdown",
      "metadata": {
        "id": "s-s2bQnznkBn"
      },
      "source": [
        "\n",
        "<b>Resumo:</b>\n",
        "\n",
        "O objetivo é analisar estatisticamente alguns dos atributos desse dataset <br>\n",
        "\n",
        "Nota: Cada uma dessas 10 variáveis ​​de recursos foi centralizada na média e dimensionada pelo desvio padrão vezes a raiz quadrada de n_samples(ou seja, a soma dos quadrados de cada coluna totaliza 1).\n",
        "\n",
        "<b>Data set URL : </b>\n",
        "\n",
        "https://scikit-learn.org/stable/datasets/toy_dataset.html#diabetes-dataset\n",
        "\n",
        "\n",
        "<b>Descrição:</b>\n",
        "\n",
        "Este projeto é realizado para  a disciplina Tópicos Especiais em Computação I (Introdução à Ciência de Dados).\n",
        "\n",
        "<b>Número de Instâncias:</b>\n",
        "\n",
        "442\n",
        "\n",
        "<b>Atributos:</b>\n",
        "<li>idade\n",
        "<li>sexo\n",
        "<li>índice de massa corporal bmi\n",
        "<li>pressão arterial média bp\n",
        "<li>s1 tc, colesterol sérico total\n",
        "<li>s2 ldl, lipoproteínas de baixa densidade\n",
        "<li>s3 hdl, lipoproteínas de alta densidade\n",
        "<li>s4 tch, colesterol total/HDL\n",
        "<li>s5 ltg, possivelmente log do nível de triglicerídeos séricos\n",
        "<li>s6 glu, nível de açúcar no sangue\n",
        "\n"
      ]
    },
    {
      "cell_type": "markdown",
      "metadata": {
        "id": "OJrEXLrSU6n-"
      },
      "source": [
        "\n",
        "## <b>Importando Bibliotecas"
      ]
    },
    {
      "cell_type": "code",
      "source": [
        "import pandas as pd               \n",
        "import numpy as np\n",
        "import seaborn as sns\n",
        "import matplotlib.pyplot as plt\n",
        "from cycler import cycler\n",
        "from scipy.stats.mstats import gmean,hmean\n",
        "from scipy import stats\n",
        "import math\n",
        "from scipy.stats import kurtosis, skew\n",
        "%matplotlib inline"
      ],
      "metadata": {
        "id": "NxEeIqvtJGxz"
      },
      "execution_count": 301,
      "outputs": []
    },
    {
      "cell_type": "markdown",
      "metadata": {
        "id": "rvXNkBBY0S_q"
      },
      "source": [
        "## <b>Carregando a Base de Dados\n"
      ]
    },
    {
      "cell_type": "code",
      "metadata": {
        "id": "qgxho-okUkdb"
      },
      "source": [
        "# carregando dataset Diabetes\n",
        "from sklearn import datasets\n",
        "# Load the dataset\n",
        "diabetes = datasets.load_diabetes()"
      ],
      "execution_count": 302,
      "outputs": []
    },
    {
      "cell_type": "code",
      "source": [
        "print(type(diabetes['data']))"
      ],
      "metadata": {
        "colab": {
          "base_uri": "https://localhost:8080/"
        },
        "id": "t_kmshLwlc4x",
        "outputId": "1de3b704-fa76-4ef2-8889-02aa76c99a69"
      },
      "execution_count": 303,
      "outputs": [
        {
          "output_type": "stream",
          "name": "stdout",
          "text": [
            "<class 'numpy.ndarray'>\n"
          ]
        }
      ]
    },
    {
      "cell_type": "code",
      "source": [
        "print(list(diabetes))"
      ],
      "metadata": {
        "colab": {
          "base_uri": "https://localhost:8080/"
        },
        "id": "uk7Wjf6AlruO",
        "outputId": "896e3e62-c2ad-4cb9-df24-715c954a8da7"
      },
      "execution_count": 304,
      "outputs": [
        {
          "output_type": "stream",
          "name": "stdout",
          "text": [
            "['data', 'target', 'frame', 'DESCR', 'feature_names', 'data_filename', 'target_filename', 'data_module']\n"
          ]
        }
      ]
    },
    {
      "cell_type": "code",
      "source": [
        "print(diabetes['DESCR'])"
      ],
      "metadata": {
        "colab": {
          "base_uri": "https://localhost:8080/"
        },
        "id": "9ojTNvwQq5PR",
        "outputId": "c4424274-607f-4875-acc8-17b144630fbb"
      },
      "execution_count": 305,
      "outputs": [
        {
          "output_type": "stream",
          "name": "stdout",
          "text": [
            ".. _diabetes_dataset:\n",
            "\n",
            "Diabetes dataset\n",
            "----------------\n",
            "\n",
            "Ten baseline variables, age, sex, body mass index, average blood\n",
            "pressure, and six blood serum measurements were obtained for each of n =\n",
            "442 diabetes patients, as well as the response of interest, a\n",
            "quantitative measure of disease progression one year after baseline.\n",
            "\n",
            "**Data Set Characteristics:**\n",
            "\n",
            "  :Number of Instances: 442\n",
            "\n",
            "  :Number of Attributes: First 10 columns are numeric predictive values\n",
            "\n",
            "  :Target: Column 11 is a quantitative measure of disease progression one year after baseline\n",
            "\n",
            "  :Attribute Information:\n",
            "      - age     age in years\n",
            "      - sex\n",
            "      - bmi     body mass index\n",
            "      - bp      average blood pressure\n",
            "      - s1      tc, total serum cholesterol\n",
            "      - s2      ldl, low-density lipoproteins\n",
            "      - s3      hdl, high-density lipoproteins\n",
            "      - s4      tch, total cholesterol / HDL\n",
            "      - s5      ltg, possibly log of serum triglycerides level\n",
            "      - s6      glu, blood sugar level\n",
            "\n",
            "Note: Each of these 10 feature variables have been mean centered and scaled by the standard deviation times `n_samples` (i.e. the sum of squares of each column totals 1).\n",
            "\n",
            "Source URL:\n",
            "https://www4.stat.ncsu.edu/~boos/var.select/diabetes.html\n",
            "\n",
            "For more information see:\n",
            "Bradley Efron, Trevor Hastie, Iain Johnstone and Robert Tibshirani (2004) \"Least Angle Regression,\" Annals of Statistics (with discussion), 407-499.\n",
            "(https://web.stanford.edu/~hastie/Papers/LARS/LeastAngle_2002.pdf)\n"
          ]
        }
      ]
    },
    {
      "cell_type": "markdown",
      "source": [
        "Os 178 pontos de dados em cada um dos 13 grupos de dados, formatados como uma matriz de 150x13"
      ],
      "metadata": {
        "id": "u5WEXjzIrlXz"
      }
    },
    {
      "cell_type": "code",
      "source": [
        "print(diabetes['data'][:2])\n"
      ],
      "metadata": {
        "colab": {
          "base_uri": "https://localhost:8080/"
        },
        "id": "d7YKrIz_rfT2",
        "outputId": "033e665a-e942-4f7b-fed0-745fb6db0f7e"
      },
      "execution_count": 306,
      "outputs": [
        {
          "output_type": "stream",
          "name": "stdout",
          "text": [
            "[[ 0.03807591  0.05068012  0.06169621  0.02187235 -0.0442235  -0.03482076\n",
            "  -0.04340085 -0.00259226  0.01990842 -0.01764613]\n",
            " [-0.00188202 -0.04464164 -0.05147406 -0.02632783 -0.00844872 -0.01916334\n",
            "   0.07441156 -0.03949338 -0.06832974 -0.09220405]]\n"
          ]
        }
      ]
    },
    {
      "cell_type": "markdown",
      "source": [
        "Em qual grupo cada ponto de dados está (0, 1 ou 2)"
      ],
      "metadata": {
        "id": "1VVzURwBsNAz"
      }
    },
    {
      "cell_type": "code",
      "source": [
        "print(diabetes['target'])"
      ],
      "metadata": {
        "colab": {
          "base_uri": "https://localhost:8080/"
        },
        "id": "j1LUWZtPsHxT",
        "outputId": "262eaaac-9ca6-4bba-a9aa-dfcab3c789e6"
      },
      "execution_count": 307,
      "outputs": [
        {
          "output_type": "stream",
          "name": "stdout",
          "text": [
            "[151.  75. 141. 206. 135.  97. 138.  63. 110. 310. 101.  69. 179. 185.\n",
            " 118. 171. 166. 144.  97. 168.  68.  49.  68. 245. 184. 202. 137.  85.\n",
            " 131. 283. 129.  59. 341.  87.  65. 102. 265. 276. 252.  90. 100.  55.\n",
            "  61.  92. 259.  53. 190. 142.  75. 142. 155. 225.  59. 104. 182. 128.\n",
            "  52.  37. 170. 170.  61. 144.  52. 128.  71. 163. 150.  97. 160. 178.\n",
            "  48. 270. 202. 111.  85.  42. 170. 200. 252. 113. 143.  51.  52. 210.\n",
            "  65. 141.  55. 134.  42. 111.  98. 164.  48.  96.  90. 162. 150. 279.\n",
            "  92.  83. 128. 102. 302. 198.  95.  53. 134. 144. 232.  81. 104.  59.\n",
            " 246. 297. 258. 229. 275. 281. 179. 200. 200. 173. 180.  84. 121. 161.\n",
            "  99. 109. 115. 268. 274. 158. 107.  83. 103. 272.  85. 280. 336. 281.\n",
            " 118. 317. 235.  60. 174. 259. 178. 128.  96. 126. 288.  88. 292.  71.\n",
            " 197. 186.  25.  84.  96. 195.  53. 217. 172. 131. 214.  59.  70. 220.\n",
            " 268. 152.  47.  74. 295. 101. 151. 127. 237. 225.  81. 151. 107.  64.\n",
            " 138. 185. 265. 101. 137. 143. 141.  79. 292. 178.  91. 116.  86. 122.\n",
            "  72. 129. 142.  90. 158.  39. 196. 222. 277.  99. 196. 202. 155.  77.\n",
            " 191.  70.  73.  49.  65. 263. 248. 296. 214. 185.  78.  93. 252. 150.\n",
            "  77. 208.  77. 108. 160.  53. 220. 154. 259.  90. 246. 124.  67.  72.\n",
            " 257. 262. 275. 177.  71.  47. 187. 125.  78.  51. 258. 215. 303. 243.\n",
            "  91. 150. 310. 153. 346.  63.  89.  50.  39. 103. 308. 116. 145.  74.\n",
            "  45. 115. 264.  87. 202. 127. 182. 241.  66.  94. 283.  64. 102. 200.\n",
            " 265.  94. 230. 181. 156. 233.  60. 219.  80.  68. 332. 248.  84. 200.\n",
            "  55.  85.  89.  31. 129.  83. 275.  65. 198. 236. 253. 124.  44. 172.\n",
            " 114. 142. 109. 180. 144. 163. 147.  97. 220. 190. 109. 191. 122. 230.\n",
            " 242. 248. 249. 192. 131. 237.  78. 135. 244. 199. 270. 164.  72.  96.\n",
            " 306.  91. 214.  95. 216. 263. 178. 113. 200. 139. 139.  88. 148.  88.\n",
            " 243.  71.  77. 109. 272.  60.  54. 221.  90. 311. 281. 182. 321.  58.\n",
            " 262. 206. 233. 242. 123. 167.  63. 197.  71. 168. 140. 217. 121. 235.\n",
            " 245.  40.  52. 104. 132.  88.  69. 219.  72. 201. 110.  51. 277.  63.\n",
            " 118.  69. 273. 258.  43. 198. 242. 232. 175.  93. 168. 275. 293. 281.\n",
            "  72. 140. 189. 181. 209. 136. 261. 113. 131. 174. 257.  55.  84.  42.\n",
            " 146. 212. 233.  91. 111. 152. 120.  67. 310.  94. 183.  66. 173.  72.\n",
            "  49.  64.  48. 178. 104. 132. 220.  57.]\n"
          ]
        }
      ]
    },
    {
      "cell_type": "markdown",
      "source": [
        " Convertendo dados em um quadro de dados"
      ],
      "metadata": {
        "id": "9n2OAEaysYtW"
      }
    },
    {
      "cell_type": "code",
      "source": [
        "data = pd.DataFrame(diabetes['data'], columns=diabetes['feature_names'])"
      ],
      "metadata": {
        "id": "7smP-kUutQby"
      },
      "execution_count": 308,
      "outputs": []
    },
    {
      "cell_type": "code",
      "source": [
        "target = pd.DataFrame(diabetes['target'], columns=['RespostaDeInteresse'])"
      ],
      "metadata": {
        "id": "-OLEtzLztzCx"
      },
      "execution_count": 309,
      "outputs": []
    },
    {
      "cell_type": "code",
      "source": [
        "df = pd.concat([target, data], axis='columns')"
      ],
      "metadata": {
        "id": "dBWgeaUrt-n-"
      },
      "execution_count": 310,
      "outputs": []
    },
    {
      "cell_type": "markdown",
      "metadata": {
        "id": "1Ibr7VMm21D8"
      },
      "source": [
        "# **Exploração de dados**"
      ]
    },
    {
      "cell_type": "markdown",
      "source": [
        "Plot"
      ],
      "metadata": {
        "id": "nhG5zo16uAxM"
      }
    },
    {
      "cell_type": "markdown",
      "source": [
        "resposta de interesse, uma medida quantitativa da progressão da doença um ano após a linha de base ."
      ],
      "metadata": {
        "id": "eHk5B6CXhVux"
      }
    },
    {
      "cell_type": "code",
      "source": [
        "plt.scatter(df['age'], df['bp'], c=df['RespostaDeInteresse'])\n",
        "plt.title('Idade x Pressão arterial média (bp)')\n",
        "plt.xlabel('age')\n",
        "plt.ylabel('bp')\n",
        "plt.show()"
      ],
      "metadata": {
        "colab": {
          "base_uri": "https://localhost:8080/",
          "height": 295
        },
        "id": "hFTeQG6iAmCK",
        "outputId": "f4d4bf00-725f-42a3-c4f9-85958c3fa63a"
      },
      "execution_count": 311,
      "outputs": [
        {
          "output_type": "display_data",
          "data": {
            "text/plain": [
              "<Figure size 432x288 with 1 Axes>"
            ],
            "image/png": "[encoded data removed]"
          },
          "metadata": {
            "needs_background": "light"
          }
        }
      ]
    },
    {
      "cell_type": "code",
      "source": [
        "df.head(50)"
      ],
      "metadata": {
        "colab": {
          "base_uri": "https://localhost:8080/",
          "height": 1000
        },
        "id": "MZUZd5pru4Xu",
        "outputId": "a96b4105-07e3-46d3-b50b-c03fd1cc92df"
      },
      "execution_count": 312,
      "outputs": [
        {
          "output_type": "execute_result",
          "data": {
            "text/plain": [
              "    RespostaDeInteresse       age       sex       bmi        bp        s1  \\\n",
              "0                 151.0  0.038076  0.050680  0.061696  0.021872 -0.044223   \n",
              "1                  75.0 -0.001882 -0.044642 -0.051474 -0.026328 -0.008449   \n",
              "2                 141.0  0.085299  0.050680  0.044451 -0.005671 -0.045599   \n",
              "3                 206.0 -0.089063 -0.044642 -0.011595 -0.036656  0.012191   \n",
              "4                 135.0  0.005383 -0.044642 -0.036385  0.021872  0.003935   \n",
              "5                  97.0 -0.092695 -0.044642 -0.040696 -0.019442 -0.068991   \n",
              "6                 138.0 -0.045472  0.050680 -0.047163 -0.015999 -0.040096   \n",
              "7                  63.0  0.063504  0.050680 -0.001895  0.066630  0.090620   \n",
              "8                 110.0  0.041708  0.050680  0.061696 -0.040099 -0.013953   \n",
              "9                 310.0 -0.070900 -0.044642  0.039062 -0.033214 -0.012577   \n",
              "10                101.0 -0.096328 -0.044642 -0.083808  0.008101 -0.103389   \n",
              "11                 69.0  0.027178  0.050680  0.017506 -0.033214 -0.007073   \n",
              "12                179.0  0.016281 -0.044642 -0.028840 -0.009113 -0.004321   \n",
              "13                185.0  0.005383  0.050680 -0.001895  0.008101 -0.004321   \n",
              "14                118.0  0.045341 -0.044642 -0.025607 -0.012556  0.017694   \n",
              "15                171.0 -0.052738  0.050680 -0.018062  0.080401  0.089244   \n",
              "16                166.0 -0.005515 -0.044642  0.042296  0.049415  0.024574   \n",
              "17                144.0  0.070769  0.050680  0.012117  0.056301  0.034206   \n",
              "18                 97.0 -0.038207 -0.044642 -0.010517 -0.036656 -0.037344   \n",
              "19                168.0 -0.027310 -0.044642 -0.018062 -0.040099 -0.002945   \n",
              "20                 68.0 -0.049105 -0.044642 -0.056863 -0.043542 -0.045599   \n",
              "21                 49.0 -0.085430  0.050680 -0.022373  0.001215 -0.037344   \n",
              "22                 68.0 -0.085430 -0.044642 -0.004050 -0.009113 -0.002945   \n",
              "23                245.0  0.045341  0.050680  0.060618  0.031053  0.028702   \n",
              "24                184.0 -0.063635 -0.044642  0.035829 -0.022885 -0.030464   \n",
              "25                202.0 -0.067268  0.050680 -0.012673 -0.040099 -0.015328   \n",
              "26                137.0 -0.107226 -0.044642 -0.077342 -0.026328 -0.089630   \n",
              "27                 85.0 -0.023677 -0.044642  0.059541 -0.040099 -0.042848   \n",
              "28                131.0  0.052606 -0.044642 -0.021295 -0.074528 -0.040096   \n",
              "29                283.0  0.067136  0.050680 -0.006206  0.063187 -0.042848   \n",
              "30                129.0 -0.060003 -0.044642  0.044451 -0.019442 -0.009825   \n",
              "31                 59.0 -0.023677 -0.044642 -0.065486 -0.081414 -0.038720   \n",
              "32                341.0  0.034443  0.050680  0.125287  0.028758 -0.053855   \n",
              "33                 87.0  0.030811 -0.044642 -0.050396 -0.002228 -0.044223   \n",
              "34                 65.0  0.016281 -0.044642 -0.063330 -0.057314 -0.057983   \n",
              "35                102.0  0.048974  0.050680 -0.030996 -0.049280  0.049341   \n",
              "36                265.0  0.012648 -0.044642  0.022895  0.052858  0.008063   \n",
              "37                276.0 -0.009147 -0.044642  0.011039 -0.057314 -0.024960   \n",
              "38                252.0 -0.001882  0.050680  0.071397  0.097616  0.087868   \n",
              "39                 90.0 -0.001882  0.050680  0.014272 -0.074528  0.002559   \n",
              "40                100.0  0.005383  0.050680 -0.008362  0.021872  0.054845   \n",
              "41                 55.0 -0.099961 -0.044642 -0.067641 -0.108957 -0.074494   \n",
              "42                 61.0 -0.060003  0.050680 -0.010517 -0.014852 -0.049727   \n",
              "43                 92.0  0.019913 -0.044642 -0.023451 -0.071085  0.020446   \n",
              "44                259.0  0.045341  0.050680  0.068163  0.008101 -0.016704   \n",
              "45                 53.0  0.027178  0.050680 -0.035307  0.032201 -0.011201   \n",
              "46                190.0 -0.056370 -0.044642 -0.011595 -0.033214 -0.046975   \n",
              "47                142.0 -0.078165 -0.044642 -0.073030 -0.057314 -0.084126   \n",
              "48                 75.0  0.067136  0.050680 -0.041774  0.011544  0.002559   \n",
              "49                142.0 -0.041840  0.050680  0.014272 -0.005671 -0.012577   \n",
              "\n",
              "          s2        s3        s4        s5        s6  \n",
              "0  -0.034821 -0.043401 -0.002592  0.019908 -0.017646  \n",
              "1  -0.019163  0.074412 -0.039493 -0.068330 -0.092204  \n",
              "2  -0.034194 -0.032356 -0.002592  0.002864 -0.025930  \n",
              "3   0.024991 -0.036038  0.034309  0.022692 -0.009362  \n",
              "4   0.015596  0.008142 -0.002592 -0.031991 -0.046641  \n",
              "5  -0.079288  0.041277 -0.076395 -0.041180 -0.096346  \n",
              "6  -0.024800  0.000779 -0.039493 -0.062913 -0.038357  \n",
              "7   0.108914  0.022869  0.017703 -0.035817  0.003064  \n",
              "8   0.006202 -0.028674 -0.002592 -0.014956  0.011349  \n",
              "9  -0.034508 -0.024993 -0.002592  0.067736 -0.013504  \n",
              "10 -0.090561 -0.013948 -0.076395 -0.062913 -0.034215  \n",
              "11  0.045972 -0.065491  0.071210 -0.096433 -0.059067  \n",
              "12 -0.009769  0.044958 -0.039493 -0.030751 -0.042499  \n",
              "13 -0.015719 -0.002903 -0.002592  0.038393 -0.013504  \n",
              "14 -0.000061  0.081775 -0.039493 -0.031991 -0.075636  \n",
              "15  0.107662 -0.039719  0.108111  0.036056 -0.042499  \n",
              "16 -0.023861  0.074412 -0.039493  0.052280  0.027917  \n",
              "17  0.049416 -0.039719  0.034309  0.027368 -0.001078  \n",
              "18 -0.019476 -0.028674 -0.002592 -0.018118 -0.017646  \n",
              "19 -0.011335  0.037595 -0.039493 -0.008944 -0.054925  \n",
              "20 -0.043276  0.000779 -0.039493 -0.011901  0.015491  \n",
              "21 -0.026366  0.015505 -0.039493 -0.072128 -0.017646  \n",
              "22  0.007767  0.022869 -0.039493 -0.061177 -0.013504  \n",
              "23 -0.047347 -0.054446  0.071210  0.133599  0.135612  \n",
              "24 -0.018850 -0.006584 -0.002592 -0.025952 -0.054925  \n",
              "25  0.004636 -0.058127  0.034309  0.019199 -0.034215  \n",
              "26 -0.096198  0.026550 -0.076395 -0.042572 -0.005220  \n",
              "27 -0.043589  0.011824 -0.039493 -0.015998  0.040343  \n",
              "28 -0.037639 -0.006584 -0.039493 -0.000609 -0.054925  \n",
              "29 -0.095885  0.052322 -0.076395  0.059424  0.052770  \n",
              "30 -0.007577  0.022869 -0.039493 -0.027129 -0.009362  \n",
              "31 -0.053610  0.059685 -0.076395 -0.037128 -0.042499  \n",
              "32 -0.012900 -0.102307  0.108111  0.000271  0.027917  \n",
              "33 -0.089935  0.118591 -0.076395 -0.018118  0.003064  \n",
              "34 -0.048912  0.008142 -0.039493 -0.059473 -0.067351  \n",
              "35 -0.004132  0.133318 -0.053516  0.021311  0.019633  \n",
              "36 -0.028558  0.037595 -0.039493  0.054724 -0.025930  \n",
              "37 -0.042963  0.030232 -0.039493  0.017037 -0.005220  \n",
              "38  0.075407 -0.021311  0.071210  0.071424  0.023775  \n",
              "39  0.006202 -0.013948 -0.002592  0.019199  0.003064  \n",
              "40  0.073215 -0.024993  0.034309  0.012553  0.094191  \n",
              "41 -0.072712  0.015505 -0.039493 -0.049868 -0.009362  \n",
              "42 -0.023547 -0.058127  0.015858 -0.009919 -0.034215  \n",
              "43 -0.010082  0.118591 -0.076395 -0.042572  0.073480  \n",
              "44  0.004636 -0.076536  0.071210  0.032433 -0.017646  \n",
              "45  0.001504 -0.010266 -0.002592 -0.014956 -0.050783  \n",
              "46 -0.047660  0.004460 -0.039493 -0.007979 -0.088062  \n",
              "47 -0.074277 -0.024993 -0.039493 -0.018118 -0.083920  \n",
              "48  0.005889  0.041277 -0.039493 -0.059473 -0.021788  \n",
              "49  0.006202 -0.072854  0.071210  0.035462 -0.013504  "
            ],
            "text/html": [
              "\n",
              "  <div id=\"df-b3b14b90-a571-4fa7-9ce7-56dcb47731be\">\n",
              "    <div class=\"colab-df-container\">\n",
              "      <div>\n",
              "<style scoped>\n",
              "    .dataframe tbody tr th:only-of-type {\n",
              "        vertical-align: middle;\n",
              "    }\n",
              "\n",
              "    .dataframe tbody tr th {\n",
              "        vertical-align: top;\n",
              "    }\n",
              "\n",
              "    .dataframe thead th {\n",
              "        text-align: right;\n",
              "    }\n",
              "</style>\n",
              "<table border=\"1\" class=\"dataframe\">\n",
              "  <thead>\n",
              "    <tr style=\"text-align: right;\">\n",
              "      <th></th>\n",
              "      <th>RespostaDeInteresse</th>\n",
              "      <th>age</th>\n",
              "      <th>sex</th>\n",
              "      <th>bmi</th>\n",
              "      <th>bp</th>\n",
              "      <th>s1</th>\n",
              "      <th>s2</th>\n",
              "      <th>s3</th>\n",
              "      <th>s4</th>\n",
              "      <th>s5</th>\n",
              "      <th>s6</th>\n",
              "    </tr>\n",
              "  </thead>\n",
              "  <tbody>\n",
              "    <tr>\n",
              "      <th>0</th>\n",
              "      <td>151.0</td>\n",
              "      <td>0.038076</td>\n",
              "      <td>0.050680</td>\n",
              "      <td>0.061696</td>\n",
              "      <td>0.021872</td>\n",
              "      <td>-0.044223</td>\n",
              "      <td>-0.034821</td>\n",
              "      <td>-0.043401</td>\n",
              "      <td>-0.002592</td>\n",
              "      <td>0.019908</td>\n",
              "      <td>-0.017646</td>\n",
              "    </tr>\n",
              "    <tr>\n",
              "      <th>1</th>\n",
              "      <td>75.0</td>\n",
              "      <td>-0.001882</td>\n",
              "      <td>-0.044642</td>\n",
              "      <td>-0.051474</td>\n",
              "      <td>-0.026328</td>\n",
              "      <td>-0.008449</td>\n",
              "      <td>-0.019163</td>\n",
              "      <td>0.074412</td>\n",
              "      <td>-0.039493</td>\n",
              "      <td>-0.068330</td>\n",
              "      <td>-0.092204</td>\n",
              "    </tr>\n",
              "    <tr>\n",
              "      <th>2</th>\n",
              "      <td>141.0</td>\n",
              "      <td>0.085299</td>\n",
              "      <td>0.050680</td>\n",
              "      <td>0.044451</td>\n",
              "      <td>-0.005671</td>\n",
              "      <td>-0.045599</td>\n",
              "      <td>-0.034194</td>\n",
              "      <td>-0.032356</td>\n",
              "      <td>-0.002592</td>\n",
              "      <td>0.002864</td>\n",
              "      <td>-0.025930</td>\n",
              "    </tr>\n",
              "    <tr>\n",
              "      <th>3</th>\n",
              "      <td>206.0</td>\n",
              "      <td>-0.089063</td>\n",
              "      <td>-0.044642</td>\n",
              "      <td>-0.011595</td>\n",
              "      <td>-0.036656</td>\n",
              "      <td>0.012191</td>\n",
              "      <td>0.024991</td>\n",
              "      <td>-0.036038</td>\n",
              "      <td>0.034309</td>\n",
              "      <td>0.022692</td>\n",
              "      <td>-0.009362</td>\n",
              "    </tr>\n",
              "    <tr>\n",
              "      <th>4</th>\n",
              "      <td>135.0</td>\n",
              "      <td>0.005383</td>\n",
              "      <td>-0.044642</td>\n",
              "      <td>-0.036385</td>\n",
              "      <td>0.021872</td>\n",
              "      <td>0.003935</td>\n",
              "      <td>0.015596</td>\n",
              "      <td>0.008142</td>\n",
              "      <td>-0.002592</td>\n",
              "      <td>-0.031991</td>\n",
              "      <td>-0.046641</td>\n",
              "    </tr>\n",
              "    <tr>\n",
              "      <th>5</th>\n",
              "      <td>97.0</td>\n",
              "      <td>-0.092695</td>\n",
              "      <td>-0.044642</td>\n",
              "      <td>-0.040696</td>\n",
              "      <td>-0.019442</td>\n",
              "      <td>-0.068991</td>\n",
              "      <td>-0.079288</td>\n",
              "      <td>0.041277</td>\n",
              "      <td>-0.076395</td>\n",
              "      <td>-0.041180</td>\n",
              "      <td>-0.096346</td>\n",
              "    </tr>\n",
              "    <tr>\n",
              "      <th>6</th>\n",
              "      <td>138.0</td>\n",
              "      <td>-0.045472</td>\n",
              "      <td>0.050680</td>\n",
              "      <td>-0.047163</td>\n",
              "      <td>-0.015999</td>\n",
              "      <td>-0.040096</td>\n",
              "      <td>-0.024800</td>\n",
              "      <td>0.000779</td>\n",
              "      <td>-0.039493</td>\n",
              "      <td>-0.062913</td>\n",
              "      <td>-0.038357</td>\n",
              "    </tr>\n",
              "    <tr>\n",
              "      <th>7</th>\n",
              "      <td>63.0</td>\n",
              "      <td>0.063504</td>\n",
              "      <td>0.050680</td>\n",
              "      <td>-0.001895</td>\n",
              "      <td>0.066630</td>\n",
              "      <td>0.090620</td>\n",
              "      <td>0.108914</td>\n",
              "      <td>0.022869</td>\n",
              "      <td>0.017703</td>\n",
              "      <td>-0.035817</td>\n",
              "      <td>0.003064</td>\n",
              "    </tr>\n",
              "    <tr>\n",
              "      <th>8</th>\n",
              "      <td>110.0</td>\n",
              "      <td>0.041708</td>\n",
              "      <td>0.050680</td>\n",
              "      <td>0.061696</td>\n",
              "      <td>-0.040099</td>\n",
              "      <td>-0.013953</td>\n",
              "      <td>0.006202</td>\n",
              "      <td>-0.028674</td>\n",
              "      <td>-0.002592</td>\n",
              "      <td>-0.014956</td>\n",
              "      <td>0.011349</td>\n",
              "    </tr>\n",
              "    <tr>\n",
              "      <th>9</th>\n",
              "      <td>310.0</td>\n",
              "      <td>-0.070900</td>\n",
              "      <td>-0.044642</td>\n",
              "      <td>0.039062</td>\n",
              "      <td>-0.033214</td>\n",
              "      <td>-0.012577</td>\n",
              "      <td>-0.034508</td>\n",
              "      <td>-0.024993</td>\n",
              "      <td>-0.002592</td>\n",
              "      <td>0.067736</td>\n",
              "      <td>-0.013504</td>\n",
              "    </tr>\n",
              "    <tr>\n",
              "      <th>10</th>\n",
              "      <td>101.0</td>\n",
              "      <td>-0.096328</td>\n",
              "      <td>-0.044642</td>\n",
              "      <td>-0.083808</td>\n",
              "      <td>0.008101</td>\n",
              "      <td>-0.103389</td>\n",
              "      <td>-0.090561</td>\n",
              "      <td>-0.013948</td>\n",
              "      <td>-0.076395</td>\n",
              "      <td>-0.062913</td>\n",
              "      <td>-0.034215</td>\n",
              "    </tr>\n",
              "    <tr>\n",
              "      <th>11</th>\n",
              "      <td>69.0</td>\n",
              "      <td>0.027178</td>\n",
              "      <td>0.050680</td>\n",
              "      <td>0.017506</td>\n",
              "      <td>-0.033214</td>\n",
              "      <td>-0.007073</td>\n",
              "      <td>0.045972</td>\n",
              "      <td>-0.065491</td>\n",
              "      <td>0.071210</td>\n",
              "      <td>-0.096433</td>\n",
              "      <td>-0.059067</td>\n",
              "    </tr>\n",
              "    <tr>\n",
              "      <th>12</th>\n",
              "      <td>179.0</td>\n",
              "      <td>0.016281</td>\n",
              "      <td>-0.044642</td>\n",
              "      <td>-0.028840</td>\n",
              "      <td>-0.009113</td>\n",
              "      <td>-0.004321</td>\n",
              "      <td>-0.009769</td>\n",
              "      <td>0.044958</td>\n",
              "      <td>-0.039493</td>\n",
              "      <td>-0.030751</td>\n",
              "      <td>-0.042499</td>\n",
              "    </tr>\n",
              "    <tr>\n",
              "      <th>13</th>\n",
              "      <td>185.0</td>\n",
              "      <td>0.005383</td>\n",
              "      <td>0.050680</td>\n",
              "      <td>-0.001895</td>\n",
              "      <td>0.008101</td>\n",
              "      <td>-0.004321</td>\n",
              "      <td>-0.015719</td>\n",
              "      <td>-0.002903</td>\n",
              "      <td>-0.002592</td>\n",
              "      <td>0.038393</td>\n",
              "      <td>-0.013504</td>\n",
              "    </tr>\n",
              "    <tr>\n",
              "      <th>14</th>\n",
              "      <td>118.0</td>\n",
              "      <td>0.045341</td>\n",
              "      <td>-0.044642</td>\n",
              "      <td>-0.025607</td>\n",
              "      <td>-0.012556</td>\n",
              "      <td>0.017694</td>\n",
              "      <td>-0.000061</td>\n",
              "      <td>0.081775</td>\n",
              "      <td>-0.039493</td>\n",
              "      <td>-0.031991</td>\n",
              "      <td>-0.075636</td>\n",
              "    </tr>\n",
              "    <tr>\n",
              "      <th>15</th>\n",
              "      <td>171.0</td>\n",
              "      <td>-0.052738</td>\n",
              "      <td>0.050680</td>\n",
              "      <td>-0.018062</td>\n",
              "      <td>0.080401</td>\n",
              "      <td>0.089244</td>\n",
              "      <td>0.107662</td>\n",
              "      <td>-0.039719</td>\n",
              "      <td>0.108111</td>\n",
              "      <td>0.036056</td>\n",
              "      <td>-0.042499</td>\n",
              "    </tr>\n",
              "    <tr>\n",
              "      <th>16</th>\n",
              "      <td>166.0</td>\n",
              "      <td>-0.005515</td>\n",
              "      <td>-0.044642</td>\n",
              "      <td>0.042296</td>\n",
              "      <td>0.049415</td>\n",
              "      <td>0.024574</td>\n",
              "      <td>-0.023861</td>\n",
              "      <td>0.074412</td>\n",
              "      <td>-0.039493</td>\n",
              "      <td>0.052280</td>\n",
              "      <td>0.027917</td>\n",
              "    </tr>\n",
              "    <tr>\n",
              "      <th>17</th>\n",
              "      <td>144.0</td>\n",
              "      <td>0.070769</td>\n",
              "      <td>0.050680</td>\n",
              "      <td>0.012117</td>\n",
              "      <td>0.056301</td>\n",
              "      <td>0.034206</td>\n",
              "      <td>0.049416</td>\n",
              "      <td>-0.039719</td>\n",
              "      <td>0.034309</td>\n",
              "      <td>0.027368</td>\n",
              "      <td>-0.001078</td>\n",
              "    </tr>\n",
              "    <tr>\n",
              "      <th>18</th>\n",
              "      <td>97.0</td>\n",
              "      <td>-0.038207</td>\n",
              "      <td>-0.044642</td>\n",
              "      <td>-0.010517</td>\n",
              "      <td>-0.036656</td>\n",
              "      <td>-0.037344</td>\n",
              "      <td>-0.019476</td>\n",
              "      <td>-0.028674</td>\n",
              "      <td>-0.002592</td>\n",
              "      <td>-0.018118</td>\n",
              "      <td>-0.017646</td>\n",
              "    </tr>\n",
              "    <tr>\n",
              "      <th>19</th>\n",
              "      <td>168.0</td>\n",
              "      <td>-0.027310</td>\n",
              "      <td>-0.044642</td>\n",
              "      <td>-0.018062</td>\n",
              "      <td>-0.040099</td>\n",
              "      <td>-0.002945</td>\n",
              "      <td>-0.011335</td>\n",
              "      <td>0.037595</td>\n",
              "      <td>-0.039493</td>\n",
              "      <td>-0.008944</td>\n",
              "      <td>-0.054925</td>\n",
              "    </tr>\n",
              "    <tr>\n",
              "      <th>20</th>\n",
              "      <td>68.0</td>\n",
              "      <td>-0.049105</td>\n",
              "      <td>-0.044642</td>\n",
              "      <td>-0.056863</td>\n",
              "      <td>-0.043542</td>\n",
              "      <td>-0.045599</td>\n",
              "      <td>-0.043276</td>\n",
              "      <td>0.000779</td>\n",
              "      <td>-0.039493</td>\n",
              "      <td>-0.011901</td>\n",
              "      <td>0.015491</td>\n",
              "    </tr>\n",
              "    <tr>\n",
              "      <th>21</th>\n",
              "      <td>49.0</td>\n",
              "      <td>-0.085430</td>\n",
              "      <td>0.050680</td>\n",
              "      <td>-0.022373</td>\n",
              "      <td>0.001215</td>\n",
              "      <td>-0.037344</td>\n",
              "      <td>-0.026366</td>\n",
              "      <td>0.015505</td>\n",
              "      <td>-0.039493</td>\n",
              "      <td>-0.072128</td>\n",
              "      <td>-0.017646</td>\n",
              "    </tr>\n",
              "    <tr>\n",
              "      <th>22</th>\n",
              "      <td>68.0</td>\n",
              "      <td>-0.085430</td>\n",
              "      <td>-0.044642</td>\n",
              "      <td>-0.004050</td>\n",
              "      <td>-0.009113</td>\n",
              "      <td>-0.002945</td>\n",
              "      <td>0.007767</td>\n",
              "      <td>0.022869</td>\n",
              "      <td>-0.039493</td>\n",
              "      <td>-0.061177</td>\n",
              "      <td>-0.013504</td>\n",
              "    </tr>\n",
              "    <tr>\n",
              "      <th>23</th>\n",
              "      <td>245.0</td>\n",
              "      <td>0.045341</td>\n",
              "      <td>0.050680</td>\n",
              "      <td>0.060618</td>\n",
              "      <td>0.031053</td>\n",
              "      <td>0.028702</td>\n",
              "      <td>-0.047347</td>\n",
              "      <td>-0.054446</td>\n",
              "      <td>0.071210</td>\n",
              "      <td>0.133599</td>\n",
              "      <td>0.135612</td>\n",
              "    </tr>\n",
              "    <tr>\n",
              "      <th>24</th>\n",
              "      <td>184.0</td>\n",
              "      <td>-0.063635</td>\n",
              "      <td>-0.044642</td>\n",
              "      <td>0.035829</td>\n",
              "      <td>-0.022885</td>\n",
              "      <td>-0.030464</td>\n",
              "      <td>-0.018850</td>\n",
              "      <td>-0.006584</td>\n",
              "      <td>-0.002592</td>\n",
              "      <td>-0.025952</td>\n",
              "      <td>-0.054925</td>\n",
              "    </tr>\n",
              "    <tr>\n",
              "      <th>25</th>\n",
              "      <td>202.0</td>\n",
              "      <td>-0.067268</td>\n",
              "      <td>0.050680</td>\n",
              "      <td>-0.012673</td>\n",
              "      <td>-0.040099</td>\n",
              "      <td>-0.015328</td>\n",
              "      <td>0.004636</td>\n",
              "      <td>-0.058127</td>\n",
              "      <td>0.034309</td>\n",
              "      <td>0.019199</td>\n",
              "      <td>-0.034215</td>\n",
              "    </tr>\n",
              "    <tr>\n",
              "      <th>26</th>\n",
              "      <td>137.0</td>\n",
              "      <td>-0.107226</td>\n",
              "      <td>-0.044642</td>\n",
              "      <td>-0.077342</td>\n",
              "      <td>-0.026328</td>\n",
              "      <td>-0.089630</td>\n",
              "      <td>-0.096198</td>\n",
              "      <td>0.026550</td>\n",
              "      <td>-0.076395</td>\n",
              "      <td>-0.042572</td>\n",
              "      <td>-0.005220</td>\n",
              "    </tr>\n",
              "    <tr>\n",
              "      <th>27</th>\n",
              "      <td>85.0</td>\n",
              "      <td>-0.023677</td>\n",
              "      <td>-0.044642</td>\n",
              "      <td>0.059541</td>\n",
              "      <td>-0.040099</td>\n",
              "      <td>-0.042848</td>\n",
              "      <td>-0.043589</td>\n",
              "      <td>0.011824</td>\n",
              "      <td>-0.039493</td>\n",
              "      <td>-0.015998</td>\n",
              "      <td>0.040343</td>\n",
              "    </tr>\n",
              "    <tr>\n",
              "      <th>28</th>\n",
              "      <td>131.0</td>\n",
              "      <td>0.052606</td>\n",
              "      <td>-0.044642</td>\n",
              "      <td>-0.021295</td>\n",
              "      <td>-0.074528</td>\n",
              "      <td>-0.040096</td>\n",
              "      <td>-0.037639</td>\n",
              "      <td>-0.006584</td>\n",
              "      <td>-0.039493</td>\n",
              "      <td>-0.000609</td>\n",
              "      <td>-0.054925</td>\n",
              "    </tr>\n",
              "    <tr>\n",
              "      <th>29</th>\n",
              "      <td>283.0</td>\n",
              "      <td>0.067136</td>\n",
              "      <td>0.050680</td>\n",
              "      <td>-0.006206</td>\n",
              "      <td>0.063187</td>\n",
              "      <td>-0.042848</td>\n",
              "      <td>-0.095885</td>\n",
              "      <td>0.052322</td>\n",
              "      <td>-0.076395</td>\n",
              "      <td>0.059424</td>\n",
              "      <td>0.052770</td>\n",
              "    </tr>\n",
              "    <tr>\n",
              "      <th>30</th>\n",
              "      <td>129.0</td>\n",
              "      <td>-0.060003</td>\n",
              "      <td>-0.044642</td>\n",
              "      <td>0.044451</td>\n",
              "      <td>-0.019442</td>\n",
              "      <td>-0.009825</td>\n",
              "      <td>-0.007577</td>\n",
              "      <td>0.022869</td>\n",
              "      <td>-0.039493</td>\n",
              "      <td>-0.027129</td>\n",
              "      <td>-0.009362</td>\n",
              "    </tr>\n",
              "    <tr>\n",
              "      <th>31</th>\n",
              "      <td>59.0</td>\n",
              "      <td>-0.023677</td>\n",
              "      <td>-0.044642</td>\n",
              "      <td>-0.065486</td>\n",
              "      <td>-0.081414</td>\n",
              "      <td>-0.038720</td>\n",
              "      <td>-0.053610</td>\n",
              "      <td>0.059685</td>\n",
              "      <td>-0.076395</td>\n",
              "      <td>-0.037128</td>\n",
              "      <td>-0.042499</td>\n",
              "    </tr>\n",
              "    <tr>\n",
              "      <th>32</th>\n",
              "      <td>341.0</td>\n",
              "      <td>0.034443</td>\n",
              "      <td>0.050680</td>\n",
              "      <td>0.125287</td>\n",
              "      <td>0.028758</td>\n",
              "      <td>-0.053855</td>\n",
              "      <td>-0.012900</td>\n",
              "      <td>-0.102307</td>\n",
              "      <td>0.108111</td>\n",
              "      <td>0.000271</td>\n",
              "      <td>0.027917</td>\n",
              "    </tr>\n",
              "    <tr>\n",
              "      <th>33</th>\n",
              "      <td>87.0</td>\n",
              "      <td>0.030811</td>\n",
              "      <td>-0.044642</td>\n",
              "      <td>-0.050396</td>\n",
              "      <td>-0.002228</td>\n",
              "      <td>-0.044223</td>\n",
              "      <td>-0.089935</td>\n",
              "      <td>0.118591</td>\n",
              "      <td>-0.076395</td>\n",
              "      <td>-0.018118</td>\n",
              "      <td>0.003064</td>\n",
              "    </tr>\n",
              "    <tr>\n",
              "      <th>34</th>\n",
              "      <td>65.0</td>\n",
              "      <td>0.016281</td>\n",
              "      <td>-0.044642</td>\n",
              "      <td>-0.063330</td>\n",
              "      <td>-0.057314</td>\n",
              "      <td>-0.057983</td>\n",
              "      <td>-0.048912</td>\n",
              "      <td>0.008142</td>\n",
              "      <td>-0.039493</td>\n",
              "      <td>-0.059473</td>\n",
              "      <td>-0.067351</td>\n",
              "    </tr>\n",
              "    <tr>\n",
              "      <th>35</th>\n",
              "      <td>102.0</td>\n",
              "      <td>0.048974</td>\n",
              "      <td>0.050680</td>\n",
              "      <td>-0.030996</td>\n",
              "      <td>-0.049280</td>\n",
              "      <td>0.049341</td>\n",
              "      <td>-0.004132</td>\n",
              "      <td>0.133318</td>\n",
              "      <td>-0.053516</td>\n",
              "      <td>0.021311</td>\n",
              "      <td>0.019633</td>\n",
              "    </tr>\n",
              "    <tr>\n",
              "      <th>36</th>\n",
              "      <td>265.0</td>\n",
              "      <td>0.012648</td>\n",
              "      <td>-0.044642</td>\n",
              "      <td>0.022895</td>\n",
              "      <td>0.052858</td>\n",
              "      <td>0.008063</td>\n",
              "      <td>-0.028558</td>\n",
              "      <td>0.037595</td>\n",
              "      <td>-0.039493</td>\n",
              "      <td>0.054724</td>\n",
              "      <td>-0.025930</td>\n",
              "    </tr>\n",
              "    <tr>\n",
              "      <th>37</th>\n",
              "      <td>276.0</td>\n",
              "      <td>-0.009147</td>\n",
              "      <td>-0.044642</td>\n",
              "      <td>0.011039</td>\n",
              "      <td>-0.057314</td>\n",
              "      <td>-0.024960</td>\n",
              "      <td>-0.042963</td>\n",
              "      <td>0.030232</td>\n",
              "      <td>-0.039493</td>\n",
              "      <td>0.017037</td>\n",
              "      <td>-0.005220</td>\n",
              "    </tr>\n",
              "    <tr>\n",
              "      <th>38</th>\n",
              "      <td>252.0</td>\n",
              "      <td>-0.001882</td>\n",
              "      <td>0.050680</td>\n",
              "      <td>0.071397</td>\n",
              "      <td>0.097616</td>\n",
              "      <td>0.087868</td>\n",
              "      <td>0.075407</td>\n",
              "      <td>-0.021311</td>\n",
              "      <td>0.071210</td>\n",
              "      <td>0.071424</td>\n",
              "      <td>0.023775</td>\n",
              "    </tr>\n",
              "    <tr>\n",
              "      <th>39</th>\n",
              "      <td>90.0</td>\n",
              "      <td>-0.001882</td>\n",
              "      <td>0.050680</td>\n",
              "      <td>0.014272</td>\n",
              "      <td>-0.074528</td>\n",
              "      <td>0.002559</td>\n",
              "      <td>0.006202</td>\n",
              "      <td>-0.013948</td>\n",
              "      <td>-0.002592</td>\n",
              "      <td>0.019199</td>\n",
              "      <td>0.003064</td>\n",
              "    </tr>\n",
              "    <tr>\n",
              "      <th>40</th>\n",
              "      <td>100.0</td>\n",
              "      <td>0.005383</td>\n",
              "      <td>0.050680</td>\n",
              "      <td>-0.008362</td>\n",
              "      <td>0.021872</td>\n",
              "      <td>0.054845</td>\n",
              "      <td>0.073215</td>\n",
              "      <td>-0.024993</td>\n",
              "      <td>0.034309</td>\n",
              "      <td>0.012553</td>\n",
              "      <td>0.094191</td>\n",
              "    </tr>\n",
              "    <tr>\n",
              "      <th>41</th>\n",
              "      <td>55.0</td>\n",
              "      <td>-0.099961</td>\n",
              "      <td>-0.044642</td>\n",
              "      <td>-0.067641</td>\n",
              "      <td>-0.108957</td>\n",
              "      <td>-0.074494</td>\n",
              "      <td>-0.072712</td>\n",
              "      <td>0.015505</td>\n",
              "      <td>-0.039493</td>\n",
              "      <td>-0.049868</td>\n",
              "      <td>-0.009362</td>\n",
              "    </tr>\n",
              "    <tr>\n",
              "      <th>42</th>\n",
              "      <td>61.0</td>\n",
              "      <td>-0.060003</td>\n",
              "      <td>0.050680</td>\n",
              "      <td>-0.010517</td>\n",
              "      <td>-0.014852</td>\n",
              "      <td>-0.049727</td>\n",
              "      <td>-0.023547</td>\n",
              "      <td>-0.058127</td>\n",
              "      <td>0.015858</td>\n",
              "      <td>-0.009919</td>\n",
              "      <td>-0.034215</td>\n",
              "    </tr>\n",
              "    <tr>\n",
              "      <th>43</th>\n",
              "      <td>92.0</td>\n",
              "      <td>0.019913</td>\n",
              "      <td>-0.044642</td>\n",
              "      <td>-0.023451</td>\n",
              "      <td>-0.071085</td>\n",
              "      <td>0.020446</td>\n",
              "      <td>-0.010082</td>\n",
              "      <td>0.118591</td>\n",
              "      <td>-0.076395</td>\n",
              "      <td>-0.042572</td>\n",
              "      <td>0.073480</td>\n",
              "    </tr>\n",
              "    <tr>\n",
              "      <th>44</th>\n",
              "      <td>259.0</td>\n",
              "      <td>0.045341</td>\n",
              "      <td>0.050680</td>\n",
              "      <td>0.068163</td>\n",
              "      <td>0.008101</td>\n",
              "      <td>-0.016704</td>\n",
              "      <td>0.004636</td>\n",
              "      <td>-0.076536</td>\n",
              "      <td>0.071210</td>\n",
              "      <td>0.032433</td>\n",
              "      <td>-0.017646</td>\n",
              "    </tr>\n",
              "    <tr>\n",
              "      <th>45</th>\n",
              "      <td>53.0</td>\n",
              "      <td>0.027178</td>\n",
              "      <td>0.050680</td>\n",
              "      <td>-0.035307</td>\n",
              "      <td>0.032201</td>\n",
              "      <td>-0.011201</td>\n",
              "      <td>0.001504</td>\n",
              "      <td>-0.010266</td>\n",
              "      <td>-0.002592</td>\n",
              "      <td>-0.014956</td>\n",
              "      <td>-0.050783</td>\n",
              "    </tr>\n",
              "    <tr>\n",
              "      <th>46</th>\n",
              "      <td>190.0</td>\n",
              "      <td>-0.056370</td>\n",
              "      <td>-0.044642</td>\n",
              "      <td>-0.011595</td>\n",
              "      <td>-0.033214</td>\n",
              "      <td>-0.046975</td>\n",
              "      <td>-0.047660</td>\n",
              "      <td>0.004460</td>\n",
              "      <td>-0.039493</td>\n",
              "      <td>-0.007979</td>\n",
              "      <td>-0.088062</td>\n",
              "    </tr>\n",
              "    <tr>\n",
              "      <th>47</th>\n",
              "      <td>142.0</td>\n",
              "      <td>-0.078165</td>\n",
              "      <td>-0.044642</td>\n",
              "      <td>-0.073030</td>\n",
              "      <td>-0.057314</td>\n",
              "      <td>-0.084126</td>\n",
              "      <td>-0.074277</td>\n",
              "      <td>-0.024993</td>\n",
              "      <td>-0.039493</td>\n",
              "      <td>-0.018118</td>\n",
              "      <td>-0.083920</td>\n",
              "    </tr>\n",
              "    <tr>\n",
              "      <th>48</th>\n",
              "      <td>75.0</td>\n",
              "      <td>0.067136</td>\n",
              "      <td>0.050680</td>\n",
              "      <td>-0.041774</td>\n",
              "      <td>0.011544</td>\n",
              "      <td>0.002559</td>\n",
              "      <td>0.005889</td>\n",
              "      <td>0.041277</td>\n",
              "      <td>-0.039493</td>\n",
              "      <td>-0.059473</td>\n",
              "      <td>-0.021788</td>\n",
              "    </tr>\n",
              "    <tr>\n",
              "      <th>49</th>\n",
              "      <td>142.0</td>\n",
              "      <td>-0.041840</td>\n",
              "      <td>0.050680</td>\n",
              "      <td>0.014272</td>\n",
              "      <td>-0.005671</td>\n",
              "      <td>-0.012577</td>\n",
              "      <td>0.006202</td>\n",
              "      <td>-0.072854</td>\n",
              "      <td>0.071210</td>\n",
              "      <td>0.035462</td>\n",
              "      <td>-0.013504</td>\n",
              "    </tr>\n",
              "  </tbody>\n",
              "</table>\n",
              "</div>\n",
              "      <button class=\"colab-df-convert\" onclick=\"convertToInteractive('df-b3b14b90-a571-4fa7-9ce7-56dcb47731be')\"\n",
              "              title=\"Convert this dataframe to an interactive table.\"\n",
              "              style=\"display:none;\">\n",
              "        \n",
              "  <svg xmlns=\"http://www.w3.org/2000/svg\" height=\"24px\"viewBox=\"0 0 24 24\"\n",
              "       width=\"24px\">\n",
              "    <path d=\"M0 0h24v24H0V0z\" fill=\"none\"/>\n",
              "    <path d=\"M18.56 5.44l.94 2.06.94-2.06 2.06-.94-2.06-.94-.94-2.06-.94 2.06-2.06.94zm-11 1L8.5 8.5l.94-2.06 2.06-.94-2.06-.94L8.5 2.5l-.94 2.06-2.06.94zm10 10l.94 2.06.94-2.06 2.06-.94-2.06-.94-.94-2.06-.94 2.06-2.06.94z\"/><path d=\"M17.41 7.96l-1.37-1.37c-.4-.4-.92-.59-1.43-.59-.52 0-1.04.2-1.43.59L10.3 9.45l-7.72 7.72c-.78.78-.78 2.05 0 2.83L4 21.41c.39.39.9.59 1.41.59.51 0 1.02-.2 1.41-.59l7.78-7.78 2.81-2.81c.8-.78.8-2.07 0-2.86zM5.41 20L4 18.59l7.72-7.72 1.47 1.35L5.41 20z\"/>\n",
              "  </svg>\n",
              "      </button>\n",
              "      \n",
              "  <style>\n",
              "    .colab-df-container {\n",
              "      display:flex;\n",
              "      flex-wrap:wrap;\n",
              "      gap: 12px;\n",
              "    }\n",
              "\n",
              "    .colab-df-convert {\n",
              "      background-color: #E8F0FE;\n",
              "      border: none;\n",
              "      border-radius: 50%;\n",
              "      cursor: pointer;\n",
              "      display: none;\n",
              "      fill: #1967D2;\n",
              "      height: 32px;\n",
              "      padding: 0 0 0 0;\n",
              "      width: 32px;\n",
              "    }\n",
              "\n",
              "    .colab-df-convert:hover {\n",
              "      background-color: #E2EBFA;\n",
              "      box-shadow: 0px 1px 2px rgba(60, 64, 67, 0.3), 0px 1px 3px 1px rgba(60, 64, 67, 0.15);\n",
              "      fill: #174EA6;\n",
              "    }\n",
              "\n",
              "    [theme=dark] .colab-df-convert {\n",
              "      background-color: #3B4455;\n",
              "      fill: #D2E3FC;\n",
              "    }\n",
              "\n",
              "    [theme=dark] .colab-df-convert:hover {\n",
              "      background-color: #434B5C;\n",
              "      box-shadow: 0px 1px 3px 1px rgba(0, 0, 0, 0.15);\n",
              "      filter: drop-shadow(0px 1px 2px rgba(0, 0, 0, 0.3));\n",
              "      fill: #FFFFFF;\n",
              "    }\n",
              "  </style>\n",
              "\n",
              "      <script>\n",
              "        const buttonEl =\n",
              "          document.querySelector('#df-b3b14b90-a571-4fa7-9ce7-56dcb47731be button.colab-df-convert');\n",
              "        buttonEl.style.display =\n",
              "          google.colab.kernel.accessAllowed ? 'block' : 'none';\n",
              "\n",
              "        async function convertToInteractive(key) {\n",
              "          const element = document.querySelector('#df-b3b14b90-a571-4fa7-9ce7-56dcb47731be');\n",
              "          const dataTable =\n",
              "            await google.colab.kernel.invokeFunction('convertToInteractive',\n",
              "                                                     [key], {});\n",
              "          if (!dataTable) return;\n",
              "\n",
              "          const docLinkHtml = 'Like what you see? Visit the ' +\n",
              "            '<a target=\"_blank\" href=https://colab.research.google.com/notebooks/data_table.ipynb>data table notebook</a>'\n",
              "            + ' to learn more about interactive tables.';\n",
              "          element.innerHTML = '';\n",
              "          dataTable['output_type'] = 'display_data';\n",
              "          await google.colab.output.renderOutput(dataTable, element);\n",
              "          const docLink = document.createElement('div');\n",
              "          docLink.innerHTML = docLinkHtml;\n",
              "          element.appendChild(docLink);\n",
              "        }\n",
              "      </script>\n",
              "    </div>\n",
              "  </div>\n",
              "  "
            ]
          },
          "metadata": {},
          "execution_count": 312
        }
      ]
    },
    {
      "cell_type": "code",
      "source": [
        "df.info()"
      ],
      "metadata": {
        "colab": {
          "base_uri": "https://localhost:8080/"
        },
        "id": "mPlIL8IsunC7",
        "outputId": "f51cc80a-96ab-4142-ea98-211b18fefc02"
      },
      "execution_count": 313,
      "outputs": [
        {
          "output_type": "stream",
          "name": "stdout",
          "text": [
            "<class 'pandas.core.frame.DataFrame'>\n",
            "RangeIndex: 442 entries, 0 to 441\n",
            "Data columns (total 11 columns):\n",
            " #   Column               Non-Null Count  Dtype  \n",
            "---  ------               --------------  -----  \n",
            " 0   RespostaDeInteresse  442 non-null    float64\n",
            " 1   age                  442 non-null    float64\n",
            " 2   sex                  442 non-null    float64\n",
            " 3   bmi                  442 non-null    float64\n",
            " 4   bp                   442 non-null    float64\n",
            " 5   s1                   442 non-null    float64\n",
            " 6   s2                   442 non-null    float64\n",
            " 7   s3                   442 non-null    float64\n",
            " 8   s4                   442 non-null    float64\n",
            " 9   s5                   442 non-null    float64\n",
            " 10  s6                   442 non-null    float64\n",
            "dtypes: float64(11)\n",
            "memory usage: 38.1 KB\n"
          ]
        }
      ]
    },
    {
      "cell_type": "code",
      "source": [
        "df.info()"
      ],
      "metadata": {
        "colab": {
          "base_uri": "https://localhost:8080/"
        },
        "id": "zoMaIXo2w86_",
        "outputId": "deb69d3e-097a-483e-9374-6b7b71f998f2"
      },
      "execution_count": 314,
      "outputs": [
        {
          "output_type": "stream",
          "name": "stdout",
          "text": [
            "<class 'pandas.core.frame.DataFrame'>\n",
            "RangeIndex: 442 entries, 0 to 441\n",
            "Data columns (total 11 columns):\n",
            " #   Column               Non-Null Count  Dtype  \n",
            "---  ------               --------------  -----  \n",
            " 0   RespostaDeInteresse  442 non-null    float64\n",
            " 1   age                  442 non-null    float64\n",
            " 2   sex                  442 non-null    float64\n",
            " 3   bmi                  442 non-null    float64\n",
            " 4   bp                   442 non-null    float64\n",
            " 5   s1                   442 non-null    float64\n",
            " 6   s2                   442 non-null    float64\n",
            " 7   s3                   442 non-null    float64\n",
            " 8   s4                   442 non-null    float64\n",
            " 9   s5                   442 non-null    float64\n",
            " 10  s6                   442 non-null    float64\n",
            "dtypes: float64(11)\n",
            "memory usage: 38.1 KB\n"
          ]
        }
      ]
    },
    {
      "cell_type": "code",
      "source": [
        "df.describe"
      ],
      "metadata": {
        "colab": {
          "base_uri": "https://localhost:8080/"
        },
        "id": "eAKi17rQxJOr",
        "outputId": "2edc3dbd-7960-43c3-9ec3-fa918afeab5a"
      },
      "execution_count": 315,
      "outputs": [
        {
          "output_type": "execute_result",
          "data": {
            "text/plain": [
              "<bound method NDFrame.describe of      RespostaDeInteresse       age       sex       bmi        bp        s1  \\\n",
              "0                  151.0  0.038076  0.050680  0.061696  0.021872 -0.044223   \n",
              "1                   75.0 -0.001882 -0.044642 -0.051474 -0.026328 -0.008449   \n",
              "2                  141.0  0.085299  0.050680  0.044451 -0.005671 -0.045599   \n",
              "3                  206.0 -0.089063 -0.044642 -0.011595 -0.036656  0.012191   \n",
              "4                  135.0  0.005383 -0.044642 -0.036385  0.021872  0.003935   \n",
              "..                   ...       ...       ...       ...       ...       ...   \n",
              "437                178.0  0.041708  0.050680  0.019662  0.059744 -0.005697   \n",
              "438                104.0 -0.005515  0.050680 -0.015906 -0.067642  0.049341   \n",
              "439                132.0  0.041708  0.050680 -0.015906  0.017282 -0.037344   \n",
              "440                220.0 -0.045472 -0.044642  0.039062  0.001215  0.016318   \n",
              "441                 57.0 -0.045472 -0.044642 -0.073030 -0.081414  0.083740   \n",
              "\n",
              "           s2        s3        s4        s5        s6  \n",
              "0   -0.034821 -0.043401 -0.002592  0.019908 -0.017646  \n",
              "1   -0.019163  0.074412 -0.039493 -0.068330 -0.092204  \n",
              "2   -0.034194 -0.032356 -0.002592  0.002864 -0.025930  \n",
              "3    0.024991 -0.036038  0.034309  0.022692 -0.009362  \n",
              "4    0.015596  0.008142 -0.002592 -0.031991 -0.046641  \n",
              "..        ...       ...       ...       ...       ...  \n",
              "437 -0.002566 -0.028674 -0.002592  0.031193  0.007207  \n",
              "438  0.079165 -0.028674  0.034309 -0.018118  0.044485  \n",
              "439 -0.013840 -0.024993 -0.011080 -0.046879  0.015491  \n",
              "440  0.015283 -0.028674  0.026560  0.044528 -0.025930  \n",
              "441  0.027809  0.173816 -0.039493 -0.004220  0.003064  \n",
              "\n",
              "[442 rows x 11 columns]>"
            ]
          },
          "metadata": {},
          "execution_count": 315
        }
      ]
    },
    {
      "cell_type": "markdown",
      "source": [
        "## <b>Verificar Valores nulos"
      ],
      "metadata": {
        "id": "wEslvKYbdma8"
      }
    },
    {
      "cell_type": "code",
      "metadata": {
        "id": "QR1YrBH-VK--",
        "outputId": "a77b6076-7bd2-4ee6-be9b-ec64f3c44ed3",
        "colab": {
          "base_uri": "https://localhost:8080/"
        }
      },
      "source": [
        "data.isnull().sum()"
      ],
      "execution_count": 316,
      "outputs": [
        {
          "output_type": "execute_result",
          "data": {
            "text/plain": [
              "age    0\n",
              "sex    0\n",
              "bmi    0\n",
              "bp     0\n",
              "s1     0\n",
              "s2     0\n",
              "s3     0\n",
              "s4     0\n",
              "s5     0\n",
              "s6     0\n",
              "dtype: int64"
            ]
          },
          "metadata": {},
          "execution_count": 316
        }
      ]
    },
    {
      "cell_type": "markdown",
      "metadata": {
        "id": "docvAXYh7JzI"
      },
      "source": [
        "Esta função conta as colunas que contêm valor nulo, mas aqui parece que os dados são pré-processados ​​e limpos com valores nulos."
      ]
    },
    {
      "cell_type": "markdown",
      "metadata": {
        "id": "CipBwlzDWf32"
      },
      "source": [
        "## **Informações estatísticas para conjunto de dados**"
      ]
    },
    {
      "cell_type": "code",
      "source": [
        "data.describe().T"
      ],
      "metadata": {
        "colab": {
          "base_uri": "https://localhost:8080/",
          "height": 363
        },
        "id": "vu6QBsmdf3qY",
        "outputId": "67fae10e-604b-412a-8443-ce93d42a682d"
      },
      "execution_count": 317,
      "outputs": [
        {
          "output_type": "execute_result",
          "data": {
            "text/plain": [
              "     count          mean       std       min       25%       50%       75%  \\\n",
              "age  442.0 -3.634285e-16  0.047619 -0.107226 -0.037299  0.005383  0.038076   \n",
              "sex  442.0  1.308343e-16  0.047619 -0.044642 -0.044642 -0.044642  0.050680   \n",
              "bmi  442.0 -8.045349e-16  0.047619 -0.090275 -0.034229 -0.007284  0.031248   \n",
              "bp   442.0  1.281655e-16  0.047619 -0.112400 -0.036656 -0.005671  0.035644   \n",
              "s1   442.0 -8.835316e-17  0.047619 -0.126781 -0.034248 -0.004321  0.028358   \n",
              "s2   442.0  1.327024e-16  0.047619 -0.115613 -0.030358 -0.003819  0.029844   \n",
              "s3   442.0 -4.574646e-16  0.047619 -0.102307 -0.035117 -0.006584  0.029312   \n",
              "s4   442.0  3.777301e-16  0.047619 -0.076395 -0.039493 -0.002592  0.034309   \n",
              "s5   442.0 -3.830854e-16  0.047619 -0.126097 -0.033249 -0.001948  0.032433   \n",
              "s6   442.0 -3.412882e-16  0.047619 -0.137767 -0.033179 -0.001078  0.027917   \n",
              "\n",
              "          max  \n",
              "age  0.110727  \n",
              "sex  0.050680  \n",
              "bmi  0.170555  \n",
              "bp   0.132044  \n",
              "s1   0.153914  \n",
              "s2   0.198788  \n",
              "s3   0.181179  \n",
              "s4   0.185234  \n",
              "s5   0.133599  \n",
              "s6   0.135612  "
            ],
            "text/html": [
              "\n",
              "  <div id=\"df-7a8be574-d49d-4c65-840f-c0268cfcea6f\">\n",
              "    <div class=\"colab-df-container\">\n",
              "      <div>\n",
              "<style scoped>\n",
              "    .dataframe tbody tr th:only-of-type {\n",
              "        vertical-align: middle;\n",
              "    }\n",
              "\n",
              "    .dataframe tbody tr th {\n",
              "        vertical-align: top;\n",
              "    }\n",
              "\n",
              "    .dataframe thead th {\n",
              "        text-align: right;\n",
              "    }\n",
              "</style>\n",
              "<table border=\"1\" class=\"dataframe\">\n",
              "  <thead>\n",
              "    <tr style=\"text-align: right;\">\n",
              "      <th></th>\n",
              "      <th>count</th>\n",
              "      <th>mean</th>\n",
              "      <th>std</th>\n",
              "      <th>min</th>\n",
              "      <th>25%</th>\n",
              "      <th>50%</th>\n",
              "      <th>75%</th>\n",
              "      <th>max</th>\n",
              "    </tr>\n",
              "  </thead>\n",
              "  <tbody>\n",
              "    <tr>\n",
              "      <th>age</th>\n",
              "      <td>442.0</td>\n",
              "      <td>-3.634285e-16</td>\n",
              "      <td>0.047619</td>\n",
              "      <td>-0.107226</td>\n",
              "      <td>-0.037299</td>\n",
              "      <td>0.005383</td>\n",
              "      <td>0.038076</td>\n",
              "      <td>0.110727</td>\n",
              "    </tr>\n",
              "    <tr>\n",
              "      <th>sex</th>\n",
              "      <td>442.0</td>\n",
              "      <td>1.308343e-16</td>\n",
              "      <td>0.047619</td>\n",
              "      <td>-0.044642</td>\n",
              "      <td>-0.044642</td>\n",
              "      <td>-0.044642</td>\n",
              "      <td>0.050680</td>\n",
              "      <td>0.050680</td>\n",
              "    </tr>\n",
              "    <tr>\n",
              "      <th>bmi</th>\n",
              "      <td>442.0</td>\n",
              "      <td>-8.045349e-16</td>\n",
              "      <td>0.047619</td>\n",
              "      <td>-0.090275</td>\n",
              "      <td>-0.034229</td>\n",
              "      <td>-0.007284</td>\n",
              "      <td>0.031248</td>\n",
              "      <td>0.170555</td>\n",
              "    </tr>\n",
              "    <tr>\n",
              "      <th>bp</th>\n",
              "      <td>442.0</td>\n",
              "      <td>1.281655e-16</td>\n",
              "      <td>0.047619</td>\n",
              "      <td>-0.112400</td>\n",
              "      <td>-0.036656</td>\n",
              "      <td>-0.005671</td>\n",
              "      <td>0.035644</td>\n",
              "      <td>0.132044</td>\n",
              "    </tr>\n",
              "    <tr>\n",
              "      <th>s1</th>\n",
              "      <td>442.0</td>\n",
              "      <td>-8.835316e-17</td>\n",
              "      <td>0.047619</td>\n",
              "      <td>-0.126781</td>\n",
              "      <td>-0.034248</td>\n",
              "      <td>-0.004321</td>\n",
              "      <td>0.028358</td>\n",
              "      <td>0.153914</td>\n",
              "    </tr>\n",
              "    <tr>\n",
              "      <th>s2</th>\n",
              "      <td>442.0</td>\n",
              "      <td>1.327024e-16</td>\n",
              "      <td>0.047619</td>\n",
              "      <td>-0.115613</td>\n",
              "      <td>-0.030358</td>\n",
              "      <td>-0.003819</td>\n",
              "      <td>0.029844</td>\n",
              "      <td>0.198788</td>\n",
              "    </tr>\n",
              "    <tr>\n",
              "      <th>s3</th>\n",
              "      <td>442.0</td>\n",
              "      <td>-4.574646e-16</td>\n",
              "      <td>0.047619</td>\n",
              "      <td>-0.102307</td>\n",
              "      <td>-0.035117</td>\n",
              "      <td>-0.006584</td>\n",
              "      <td>0.029312</td>\n",
              "      <td>0.181179</td>\n",
              "    </tr>\n",
              "    <tr>\n",
              "      <th>s4</th>\n",
              "      <td>442.0</td>\n",
              "      <td>3.777301e-16</td>\n",
              "      <td>0.047619</td>\n",
              "      <td>-0.076395</td>\n",
              "      <td>-0.039493</td>\n",
              "      <td>-0.002592</td>\n",
              "      <td>0.034309</td>\n",
              "      <td>0.185234</td>\n",
              "    </tr>\n",
              "    <tr>\n",
              "      <th>s5</th>\n",
              "      <td>442.0</td>\n",
              "      <td>-3.830854e-16</td>\n",
              "      <td>0.047619</td>\n",
              "      <td>-0.126097</td>\n",
              "      <td>-0.033249</td>\n",
              "      <td>-0.001948</td>\n",
              "      <td>0.032433</td>\n",
              "      <td>0.133599</td>\n",
              "    </tr>\n",
              "    <tr>\n",
              "      <th>s6</th>\n",
              "      <td>442.0</td>\n",
              "      <td>-3.412882e-16</td>\n",
              "      <td>0.047619</td>\n",
              "      <td>-0.137767</td>\n",
              "      <td>-0.033179</td>\n",
              "      <td>-0.001078</td>\n",
              "      <td>0.027917</td>\n",
              "      <td>0.135612</td>\n",
              "    </tr>\n",
              "  </tbody>\n",
              "</table>\n",
              "</div>\n",
              "      <button class=\"colab-df-convert\" onclick=\"convertToInteractive('df-7a8be574-d49d-4c65-840f-c0268cfcea6f')\"\n",
              "              title=\"Convert this dataframe to an interactive table.\"\n",
              "              style=\"display:none;\">\n",
              "        \n",
              "  <svg xmlns=\"http://www.w3.org/2000/svg\" height=\"24px\"viewBox=\"0 0 24 24\"\n",
              "       width=\"24px\">\n",
              "    <path d=\"M0 0h24v24H0V0z\" fill=\"none\"/>\n",
              "    <path d=\"M18.56 5.44l.94 2.06.94-2.06 2.06-.94-2.06-.94-.94-2.06-.94 2.06-2.06.94zm-11 1L8.5 8.5l.94-2.06 2.06-.94-2.06-.94L8.5 2.5l-.94 2.06-2.06.94zm10 10l.94 2.06.94-2.06 2.06-.94-2.06-.94-.94-2.06-.94 2.06-2.06.94z\"/><path d=\"M17.41 7.96l-1.37-1.37c-.4-.4-.92-.59-1.43-.59-.52 0-1.04.2-1.43.59L10.3 9.45l-7.72 7.72c-.78.78-.78 2.05 0 2.83L4 21.41c.39.39.9.59 1.41.59.51 0 1.02-.2 1.41-.59l7.78-7.78 2.81-2.81c.8-.78.8-2.07 0-2.86zM5.41 20L4 18.59l7.72-7.72 1.47 1.35L5.41 20z\"/>\n",
              "  </svg>\n",
              "      </button>\n",
              "      \n",
              "  <style>\n",
              "    .colab-df-container {\n",
              "      display:flex;\n",
              "      flex-wrap:wrap;\n",
              "      gap: 12px;\n",
              "    }\n",
              "\n",
              "    .colab-df-convert {\n",
              "      background-color: #E8F0FE;\n",
              "      border: none;\n",
              "      border-radius: 50%;\n",
              "      cursor: pointer;\n",
              "      display: none;\n",
              "      fill: #1967D2;\n",
              "      height: 32px;\n",
              "      padding: 0 0 0 0;\n",
              "      width: 32px;\n",
              "    }\n",
              "\n",
              "    .colab-df-convert:hover {\n",
              "      background-color: #E2EBFA;\n",
              "      box-shadow: 0px 1px 2px rgba(60, 64, 67, 0.3), 0px 1px 3px 1px rgba(60, 64, 67, 0.15);\n",
              "      fill: #174EA6;\n",
              "    }\n",
              "\n",
              "    [theme=dark] .colab-df-convert {\n",
              "      background-color: #3B4455;\n",
              "      fill: #D2E3FC;\n",
              "    }\n",
              "\n",
              "    [theme=dark] .colab-df-convert:hover {\n",
              "      background-color: #434B5C;\n",
              "      box-shadow: 0px 1px 3px 1px rgba(0, 0, 0, 0.15);\n",
              "      filter: drop-shadow(0px 1px 2px rgba(0, 0, 0, 0.3));\n",
              "      fill: #FFFFFF;\n",
              "    }\n",
              "  </style>\n",
              "\n",
              "      <script>\n",
              "        const buttonEl =\n",
              "          document.querySelector('#df-7a8be574-d49d-4c65-840f-c0268cfcea6f button.colab-df-convert');\n",
              "        buttonEl.style.display =\n",
              "          google.colab.kernel.accessAllowed ? 'block' : 'none';\n",
              "\n",
              "        async function convertToInteractive(key) {\n",
              "          const element = document.querySelector('#df-7a8be574-d49d-4c65-840f-c0268cfcea6f');\n",
              "          const dataTable =\n",
              "            await google.colab.kernel.invokeFunction('convertToInteractive',\n",
              "                                                     [key], {});\n",
              "          if (!dataTable) return;\n",
              "\n",
              "          const docLinkHtml = 'Like what you see? Visit the ' +\n",
              "            '<a target=\"_blank\" href=https://colab.research.google.com/notebooks/data_table.ipynb>data table notebook</a>'\n",
              "            + ' to learn more about interactive tables.';\n",
              "          element.innerHTML = '';\n",
              "          dataTable['output_type'] = 'display_data';\n",
              "          await google.colab.output.renderOutput(dataTable, element);\n",
              "          const docLink = document.createElement('div');\n",
              "          docLink.innerHTML = docLinkHtml;\n",
              "          element.appendChild(docLink);\n",
              "        }\n",
              "      </script>\n",
              "    </div>\n",
              "  </div>\n",
              "  "
            ]
          },
          "metadata": {},
          "execution_count": 317
        }
      ]
    },
    {
      "cell_type": "markdown",
      "metadata": {
        "id": "79DHt349iCmW"
      },
      "source": [
        "##**Aprendendo sobre o atributo** ***age***\n",
        "\n",
        "---\n",
        "\n"
      ]
    },
    {
      "cell_type": "markdown",
      "source": [
        "Transformando os dados para o formato numérico"
      ],
      "metadata": {
        "id": "q12CKCZswmvk"
      }
    },
    {
      "cell_type": "code",
      "source": [
        "df['age']=pd.to_numeric(df['age'],errors='coerce')"
      ],
      "metadata": {
        "id": "8n9_oVc1wshW"
      },
      "execution_count": 318,
      "outputs": []
    },
    {
      "cell_type": "code",
      "source": [
        "data.age.value_counts().sort_index()"
      ],
      "metadata": {
        "colab": {
          "base_uri": "https://localhost:8080/"
        },
        "id": "u4SVC59Ziw5W",
        "outputId": "c7cd5d67-34a9-4be8-ee39-dde4e999ee14"
      },
      "execution_count": 319,
      "outputs": [
        {
          "output_type": "execute_result",
          "data": {
            "text/plain": [
              "-0.107226     3\n",
              "-0.103593     3\n",
              "-0.099961     2\n",
              "-0.096328     4\n",
              "-0.092695     4\n",
              "-0.089063     3\n",
              "-0.085430     5\n",
              "-0.081798     2\n",
              "-0.078165     4\n",
              "-0.074533     8\n",
              "-0.070900     6\n",
              "-0.067268     3\n",
              "-0.063635     4\n",
              "-0.060003     7\n",
              "-0.056370     6\n",
              "-0.052738    14\n",
              "-0.049105     7\n",
              "-0.045472     9\n",
              "-0.041840    11\n",
              "-0.038207     6\n",
              "-0.034575     6\n",
              "-0.030942     5\n",
              "-0.027310    15\n",
              "-0.023677    10\n",
              "-0.020045     7\n",
              "-0.016412     7\n",
              "-0.012780     4\n",
              "-0.009147    11\n",
              "-0.005515    12\n",
              "-0.001882    14\n",
              " 0.001751    12\n",
              " 0.005383    13\n",
              " 0.009016    16\n",
              " 0.012648    14\n",
              " 0.016281    19\n",
              " 0.019913    11\n",
              " 0.023546    12\n",
              " 0.027178     9\n",
              " 0.030811    12\n",
              " 0.034443     9\n",
              " 0.038076    10\n",
              " 0.041708    17\n",
              " 0.045341    14\n",
              " 0.048974    11\n",
              " 0.052606     4\n",
              " 0.056239     5\n",
              " 0.059871     7\n",
              " 0.063504     6\n",
              " 0.067136    13\n",
              " 0.070769     7\n",
              " 0.074401     6\n",
              " 0.078034     1\n",
              " 0.081666     5\n",
              " 0.085299     1\n",
              " 0.088931     1\n",
              " 0.092564     1\n",
              " 0.096197     2\n",
              " 0.110727     2\n",
              "Name: age, dtype: int64"
            ]
          },
          "metadata": {},
          "execution_count": 319
        }
      ]
    },
    {
      "cell_type": "markdown",
      "source": [
        "Gráfico de barras do atributo age das 25 primeiras amostras"
      ],
      "metadata": {
        "id": "nDo3XVPlkcUp"
      }
    },
    {
      "cell_type": "code",
      "source": [
        "data['age'].value_counts().head(25).plot.bar()"
      ],
      "metadata": {
        "colab": {
          "base_uri": "https://localhost:8080/",
          "height": 393
        },
        "id": "SEq7Iv1SkbTV",
        "outputId": "1c0460b5-5996-410a-d05e-2b3b70bd78d1"
      },
      "execution_count": 320,
      "outputs": [
        {
          "output_type": "execute_result",
          "data": {
            "text/plain": [
              "<matplotlib.axes._subplots.AxesSubplot at 0x7f0d56a4ee50>"
            ]
          },
          "metadata": {},
          "execution_count": 320
        },
        {
          "output_type": "display_data",
          "data": {
            "text/plain": [
              "<Figure size 432x288 with 1 Axes>"
            ],
            "image/png": "[encoded data removed]"
          },
          "metadata": {
            "needs_background": "light"
          }
        }
      ]
    },
    {
      "cell_type": "markdown",
      "source": [
        ""
      ],
      "metadata": {
        "id": "Sz89w43VqC4M"
      }
    },
    {
      "cell_type": "code",
      "source": [
        "sns.countplot(x='age', data=data)"
      ],
      "metadata": {
        "colab": {
          "base_uri": "https://localhost:8080/",
          "height": 296
        },
        "id": "Ekh1qAhRmAW9",
        "outputId": "0a0e7910-6690-4146-b35f-346a56a12bbe"
      },
      "execution_count": 321,
      "outputs": [
        {
          "output_type": "execute_result",
          "data": {
            "text/plain": [
              "<matplotlib.axes._subplots.AxesSubplot at 0x7f0d569601d0>"
            ]
          },
          "metadata": {},
          "execution_count": 321
        },
        {
          "output_type": "display_data",
          "data": {
            "text/plain": [
              "<Figure size 432x288 with 1 Axes>"
            ],
            "image/png": "[encoded data removed]"
          },
          "metadata": {
            "needs_background": "light"
          }
        }
      ]
    },
    {
      "cell_type": "code",
      "source": [
        "sns.distplot(data['age'])"
      ],
      "metadata": {
        "colab": {
          "base_uri": "https://localhost:8080/",
          "height": 351
        },
        "id": "cMCnZCYPwQ8H",
        "outputId": "22b87243-a1fe-42a6-e15f-59c1bc4ff980"
      },
      "execution_count": 322,
      "outputs": [
        {
          "output_type": "stream",
          "name": "stderr",
          "text": [
            "/usr/local/lib/python3.7/dist-packages/seaborn/distributions.py:2619: FutureWarning: `distplot` is a deprecated function and will be removed in a future version. Please adapt your code to use either `displot` (a figure-level function with similar flexibility) or `histplot` (an axes-level function for histograms).\n",
            "  warnings.warn(msg, FutureWarning)\n"
          ]
        },
        {
          "output_type": "execute_result",
          "data": {
            "text/plain": [
              "<matplotlib.axes._subplots.AxesSubplot at 0x7f0d56a58850>"
            ]
          },
          "metadata": {},
          "execution_count": 322
        },
        {
          "output_type": "display_data",
          "data": {
            "text/plain": [
              "<Figure size 432x288 with 1 Axes>"
            ],
            "image/png": "[encoded data removed]"
          },
          "metadata": {
            "needs_background": "light"
          }
        }
      ]
    },
    {
      "cell_type": "markdown",
      "source": [
        "O Countplot é um gráfico em formato de barra, onde “x” é o atributo escolhido, e “y” é a quantidade de vezes que esse atributo aparece."
      ],
      "metadata": {
        "id": "ZG6iPUuhzcqi"
      }
    },
    {
      "cell_type": "code",
      "source": [
        "palette_genre_cubehelix = sns.cubehelix_palette(15,reverse=True)\n",
        "fig = plt.figure(figsize=(20,8))\n",
        "sns.countplot(x=data['age'], order = data['age'].value_counts().index ,palette=palette_genre_cubehelix,data=data)\n",
        "plt.xlim(-0.5,30.5)\n",
        "plt.xlabel('')\n",
        "plt.ylabel('Quantidade',fontsize=15)\n",
        "plt.xticks(fontsize=13)\n",
        "plt.yticks(fontsize=13)\n",
        "plt.title('As 30 medidas mais frequentes do atributo Age',fontsize=21)"
      ],
      "metadata": {
        "colab": {
          "base_uri": "https://localhost:8080/",
          "height": 525
        },
        "id": "0UCog17pze3e",
        "outputId": "34d2a167-dd48-476b-b428-cdccb22dc397"
      },
      "execution_count": 323,
      "outputs": [
        {
          "output_type": "execute_result",
          "data": {
            "text/plain": [
              "Text(0.5, 1.0, 'As 30 medidas mais frequentes do atributo Age')"
            ]
          },
          "metadata": {},
          "execution_count": 323
        },
        {
          "output_type": "display_data",
          "data": {
            "text/plain": [
              "<Figure size 1440x576 with 1 Axes>"
            ],
            "image/png": "[encoded data removed]"
          },
          "metadata": {
            "needs_background": "light"
          }
        }
      ]
    },
    {
      "cell_type": "markdown",
      "source": [
        "Analisando o gráfico podemos perceber que existe uma grande variedade do teor alcoólico percentual do vinho.\n",
        "\n",
        "\n",
        "\n"
      ],
      "metadata": {
        "id": "5quvpgDW6wyr"
      }
    },
    {
      "cell_type": "markdown",
      "source": [
        "São classificados e denominados vinhos nobres, aqueles elaborados no território nacional exclusivamente a partir de uvas da espécie Vitis vinifera que apresentarem teor alcoólico de 14,1% (quatorze e um décimo por cento) a 16% (dezesseis por cento), em volume.\n",
        "Fonte: https://www.in.gov.br/materia/-/asset_publisher/Kujrw0TZC2Mb/content/id/5809096/do1-2018-03-09-instrucao-normativa-n-14-de-8-de-fevereiro-de-2018-5809092"
      ],
      "metadata": {
        "id": "QfWWHq8yGVY3"
      }
    },
    {
      "cell_type": "markdown",
      "source": [
        "Calculando a média aritmética"
      ],
      "metadata": {
        "id": "Ut3ePEScxpN3"
      }
    },
    {
      "cell_type": "code",
      "source": [
        "df[\"age\"].mean()"
      ],
      "metadata": {
        "colab": {
          "base_uri": "https://localhost:8080/"
        },
        "outputId": "faeef96f-1304-49af-8c6b-21033c64afaa",
        "id": "0i-PJv0jBmHL"
      },
      "execution_count": 324,
      "outputs": [
        {
          "output_type": "execute_result",
          "data": {
            "text/plain": [
              "-3.6342849293088766e-16"
            ]
          },
          "metadata": {},
          "execution_count": 324
        }
      ]
    },
    {
      "cell_type": "code",
      "source": [
        "AGE = df[\"age\"]"
      ],
      "metadata": {
        "id": "0JrAwtEDBmHN"
      },
      "execution_count": 325,
      "outputs": []
    },
    {
      "cell_type": "code",
      "metadata": {
        "colab": {
          "base_uri": "https://localhost:8080/"
        },
        "outputId": "004d0e05-0570-40a1-e1b7-477eafccf2b7",
        "id": "hU5H3FMnBmHN"
      },
      "source": [
        "AGE.mean()"
      ],
      "execution_count": 326,
      "outputs": [
        {
          "output_type": "execute_result",
          "data": {
            "text/plain": [
              "-3.6342849293088766e-16"
            ]
          },
          "metadata": {},
          "execution_count": 326
        }
      ]
    },
    {
      "cell_type": "markdown",
      "source": [
        "Média geométrica"
      ],
      "metadata": {
        "id": "5VwDBsmWBmHO"
      }
    },
    {
      "cell_type": "code",
      "source": [
        "gmean(AGE)"
      ],
      "metadata": {
        "colab": {
          "base_uri": "https://localhost:8080/"
        },
        "outputId": "c37c27a1-090e-4bfe-8204-b35194d36116",
        "id": "V7FuI1Q9BmHP"
      },
      "execution_count": 327,
      "outputs": [
        {
          "output_type": "stream",
          "name": "stderr",
          "text": [
            "/usr/local/lib/python3.7/dist-packages/scipy/stats/stats.py:330: RuntimeWarning: invalid value encountered in log\n",
            "  log_a = np.log(np.array(a, dtype=dtype))\n"
          ]
        },
        {
          "output_type": "execute_result",
          "data": {
            "text/plain": [
              "nan"
            ]
          },
          "metadata": {},
          "execution_count": 327
        }
      ]
    },
    {
      "cell_type": "markdown",
      "source": [
        "Média Harmônica"
      ],
      "metadata": {
        "id": "Up59hHMGBmHQ"
      }
    },
    {
      "cell_type": "markdown",
      "source": [
        "Mediana"
      ],
      "metadata": {
        "id": "RztYGJpBBmHR"
      }
    },
    {
      "cell_type": "code",
      "source": [
        "AGE.median()"
      ],
      "metadata": {
        "colab": {
          "base_uri": "https://localhost:8080/"
        },
        "outputId": "159a52ed-3f03-42b8-db76-c5fa25e0aef7",
        "id": "bHlbLdOdBmHR"
      },
      "execution_count": 328,
      "outputs": [
        {
          "output_type": "execute_result",
          "data": {
            "text/plain": [
              "0.00538306037424807"
            ]
          },
          "metadata": {},
          "execution_count": 328
        }
      ]
    },
    {
      "cell_type": "markdown",
      "source": [
        "Moda"
      ],
      "metadata": {
        "id": "8APO0MdBBmHS"
      }
    },
    {
      "cell_type": "code",
      "source": [
        "AGE.mode()"
      ],
      "metadata": {
        "colab": {
          "base_uri": "https://localhost:8080/"
        },
        "outputId": "9ac5c30f-a906-4a33-c5a8-93f012ac43f1",
        "id": "9mRqDlR2BmHT"
      },
      "execution_count": 329,
      "outputs": [
        {
          "output_type": "execute_result",
          "data": {
            "text/plain": [
              "0    0.016281\n",
              "dtype: float64"
            ]
          },
          "metadata": {},
          "execution_count": 329
        }
      ]
    },
    {
      "cell_type": "markdown",
      "source": [
        "*Variância*"
      ],
      "metadata": {
        "id": "CpqnReUPBmHT"
      }
    },
    {
      "cell_type": "code",
      "source": [
        "AGE.var()"
      ],
      "metadata": {
        "colab": {
          "base_uri": "https://localhost:8080/"
        },
        "outputId": "5e072db3-94fc-4439-d8f7-8289eecd588a",
        "id": "9WKNtjcNBmHU"
      },
      "execution_count": 330,
      "outputs": [
        {
          "output_type": "execute_result",
          "data": {
            "text/plain": [
              "0.0022675736961452935"
            ]
          },
          "metadata": {},
          "execution_count": 330
        }
      ]
    },
    {
      "cell_type": "markdown",
      "source": [
        "Desvio padrão"
      ],
      "metadata": {
        "id": "u-0pd6Z6BmHU"
      }
    },
    {
      "cell_type": "code",
      "source": [
        "AGE.std()"
      ],
      "metadata": {
        "colab": {
          "base_uri": "https://localhost:8080/"
        },
        "outputId": "e8671e7b-033b-4fd5-d893-d3c24c4fd60c",
        "id": "gpgusvAOBmHV"
      },
      "execution_count": 331,
      "outputs": [
        {
          "output_type": "execute_result",
          "data": {
            "text/plain": [
              "0.04761904761904939"
            ]
          },
          "metadata": {},
          "execution_count": 331
        }
      ]
    },
    {
      "cell_type": "markdown",
      "source": [
        "Valor máximo"
      ],
      "metadata": {
        "id": "HhKaxWemBmHV"
      }
    },
    {
      "cell_type": "code",
      "source": [
        "AGE.max()"
      ],
      "metadata": {
        "colab": {
          "base_uri": "https://localhost:8080/"
        },
        "outputId": "5adfee2a-4e05-4e05-b0a7-a096ca103991",
        "id": "KwjFQljsBmHW"
      },
      "execution_count": 332,
      "outputs": [
        {
          "output_type": "execute_result",
          "data": {
            "text/plain": [
              "0.110726675453815"
            ]
          },
          "metadata": {},
          "execution_count": 332
        }
      ]
    },
    {
      "cell_type": "markdown",
      "source": [
        "Valor mínimo"
      ],
      "metadata": {
        "id": "8bS3cGCZBmHW"
      }
    },
    {
      "cell_type": "code",
      "source": [
        "AGE.min()"
      ],
      "metadata": {
        "colab": {
          "base_uri": "https://localhost:8080/"
        },
        "outputId": "8bc8ffbd-5caf-4e5f-c3f0-74ce336916a6",
        "id": "yc6Ap_ajBmHX"
      },
      "execution_count": 333,
      "outputs": [
        {
          "output_type": "execute_result",
          "data": {
            "text/plain": [
              "-0.107225631607358"
            ]
          },
          "metadata": {},
          "execution_count": 333
        }
      ]
    },
    {
      "cell_type": "markdown",
      "source": [
        "MEDIDAS DE ASSIMETRIA"
      ],
      "metadata": {
        "id": "Qpf9jDokBmHX"
      }
    },
    {
      "cell_type": "markdown",
      "source": [
        "Função para calcular estatísticas"
      ],
      "metadata": {
        "id": "-KyZwElDBmHY"
      }
    },
    {
      "cell_type": "code",
      "metadata": {
        "id": "2hNmOD4IBmHY"
      },
      "source": [
        "def calcula_estatisticas(data):\n",
        "  mean = round(np.mean(data),2)\n",
        "  mode = round(stats.mode(data,)[0][0],2)\n",
        "  median = round(np.median(data),2)\n",
        "  var = round(np.var(data),2)\n",
        "  std = round(np.std(data),2)\n",
        "  coef_pearson = round(stats.skew(data),2)\n",
        "  coef_kurtosis = round(kurtosis(data),2)\n",
        "  msg = print(\"Media: {}\\nModa: {}\\nMediana: {}\\nVariância: {}\\nDesvio Padrão: {}\\nCoeficiente Person: {}\\nCoeficiente de Kurtosi: {}\".format(mean,median,mode,var,std,coef_pearson,coef_kurtosis))\n",
        "  return msg"
      ],
      "execution_count": 334,
      "outputs": []
    },
    {
      "cell_type": "code",
      "source": [
        "so = df[\"age\"]"
      ],
      "metadata": {
        "id": "96HXoejaBmHZ"
      },
      "execution_count": 335,
      "outputs": []
    },
    {
      "cell_type": "code",
      "source": [
        "calcula_estatisticas(so)"
      ],
      "metadata": {
        "colab": {
          "base_uri": "https://localhost:8080/"
        },
        "outputId": "a4944f49-59d1-46a5-aed3-70c53db7d816",
        "id": "s8NXkvDjBmHZ"
      },
      "execution_count": 336,
      "outputs": [
        {
          "output_type": "stream",
          "name": "stdout",
          "text": [
            "Media: -0.0\n",
            "Moda: 0.01\n",
            "Mediana: 0.02\n",
            "Variância: 0.0\n",
            "Desvio Padrão: 0.05\n",
            "Coeficiente Person: -0.23\n",
            "Coeficiente de Kurtosi: -0.68\n"
          ]
        }
      ]
    },
    {
      "cell_type": "markdown",
      "source": [
        "Como nesse caso a média, a moda e a mediana tem valores bem próximos, temos uma  Distribuição  quase Simétrica."
      ],
      "metadata": {
        "id": "bwGcXHn0BmHa"
      }
    },
    {
      "cell_type": "code",
      "metadata": {
        "colab": {
          "base_uri": "https://localhost:8080/",
          "height": 158
        },
        "outputId": "449edc84-22c8-42a4-beb7-3c2bed40d418",
        "id": "tKfUJ7EYBmHa"
      },
      "source": [
        "fig = plt.figure(figsize=(8, 4))\n",
        "ax = sns.distplot(so,rug=True,kde=True,hist=False)\n",
        "\n",
        "ax.annotate('Moda', xy=(0.01,0.01), xytext=(1, 0.02),arrowprops={'arrowstyle': '-'})         \n",
        "ax.annotate('Mediana', xy=(0.02, 0.01), xytext=(3, 0.03),arrowprops={'arrowstyle': '-'})\n",
        "ax.annotate('Média', xy=(0, 0.01), xytext=(4.5, 0.02),arrowprops={'arrowstyle': '-'})\n",
        "plt.show()"
      ],
      "execution_count": 337,
      "outputs": [
        {
          "output_type": "stream",
          "name": "stderr",
          "text": [
            "/usr/local/lib/python3.7/dist-packages/seaborn/distributions.py:2619: FutureWarning: `distplot` is a deprecated function and will be removed in a future version. Please adapt your code to use either `displot` (a figure-level function with similar flexibility) or `kdeplot` (an axes-level function for kernel density plots).\n",
            "  warnings.warn(msg, FutureWarning)\n",
            "/usr/local/lib/python3.7/dist-packages/seaborn/distributions.py:2103: FutureWarning: The `axis` variable is no longer used and will be removed. Instead, assign variables directly to `x` or `y`.\n",
            "  warnings.warn(msg, FutureWarning)\n"
          ]
        },
        {
          "output_type": "display_data",
          "data": {
            "text/plain": [
              "<Figure size 576x288 with 1 Axes>"
            ],
            "image/png": "[encoded data removed]"
          },
          "metadata": {
            "needs_background": "light"
          }
        }
      ]
    },
    {
      "cell_type": "markdown",
      "metadata": {
        "id": "SvtnBh9_BmHb"
      },
      "source": [
        "\n",
        "Coeficiente de Pearson - O valor é próximo de zero a distribuição é simétrica.\n",
        "\n",
        "Coeficiente de Curtose - O valor é menor que 3 o grau de achatamento da distribuição normal é platicúrtica (mais achatada no platô)"
      ]
    },
    {
      "cell_type": "markdown",
      "source": [
        "Correlação entre diferentes recursos usando o mapa de correlação"
      ],
      "metadata": {
        "id": "W4eptl89ZKWA"
      }
    },
    {
      "cell_type": "code",
      "source": [
        "correlation= data.corr()\n",
        "mask = np.array(correlation)\n",
        "mask[np.tril_indices_from(mask)] = False\n",
        "fig=plt.gcf()\n",
        "fig.set_size_inches(10,10)\n",
        "sns.heatmap(data=correlation,mask=mask,square=True,annot=True,cbar=True,cmap=\"YlGnBu\")"
      ],
      "metadata": {
        "colab": {
          "base_uri": "https://localhost:8080/",
          "height": 596
        },
        "id": "AOiP8mIxYkhZ",
        "outputId": "8eaaa72e-2e10-4376-924b-37f9c0b61cb1"
      },
      "execution_count": 338,
      "outputs": [
        {
          "output_type": "execute_result",
          "data": {
            "text/plain": [
              "<matplotlib.axes._subplots.AxesSubplot at 0x7f0d56713fd0>"
            ]
          },
          "metadata": {},
          "execution_count": 338
        },
        {
          "output_type": "display_data",
          "data": {
            "text/plain": [
              "<Figure size 720x720 with 2 Axes>"
            ],
            "image/png": "[encoded data removed]"
          },
          "metadata": {
            "needs_background": "light"
          }
        }
      ]
    },
    {
      "cell_type": "code",
      "source": [
        "correlation['age'].sort_values(ascending=False)"
      ],
      "metadata": {
        "colab": {
          "base_uri": "https://localhost:8080/"
        },
        "id": "DcjckxBXYzZJ",
        "outputId": "ce916bbc-7ad0-487d-a1a6-7f9af561ff88"
      },
      "execution_count": 339,
      "outputs": [
        {
          "output_type": "execute_result",
          "data": {
            "text/plain": [
              "age    1.000000\n",
              "bp     0.335427\n",
              "s6     0.301731\n",
              "s5     0.270777\n",
              "s1     0.260061\n",
              "s2     0.219243\n",
              "s4     0.203841\n",
              "bmi    0.185085\n",
              "sex    0.173737\n",
              "s3    -0.075181\n",
              "Name: age, dtype: float64"
            ]
          },
          "metadata": {},
          "execution_count": 339
        }
      ]
    },
    {
      "cell_type": "markdown",
      "metadata": {
        "id": "RJojHJ9XJtAe"
      },
      "source": [
        "##**Aprendendo sobre o atributo** ***RespostaDeInteresse***"
      ]
    },
    {
      "cell_type": "markdown",
      "source": [
        "A resposta de interesse, uma medida quantitativa da progressão da doença um ano após a linha de base ."
      ],
      "metadata": {
        "id": "Tfj4s1DqPOu-"
      }
    },
    {
      "cell_type": "markdown",
      "source": [
        "Transformando os dados para o formato numérico"
      ],
      "metadata": {
        "id": "4uVh18cBJtAo"
      }
    },
    {
      "cell_type": "code",
      "source": [
        "df['RespostaDeInteresse']=pd.to_numeric(df['RespostaDeInteresse'],errors='coerce')"
      ],
      "metadata": {
        "id": "Yy13yx2-JtAo"
      },
      "execution_count": 340,
      "outputs": []
    },
    {
      "cell_type": "code",
      "source": [
        "diabetes.RespostaDeInteresse.value_counts().sort_index()"
      ],
      "metadata": {
        "id": "Wl-JobWaJtAp"
      },
      "execution_count": null,
      "outputs": []
    },
    {
      "cell_type": "markdown",
      "source": [
        "Gráfico de barras do atributo RespostasDeInteresse das 25 primeiras amostras"
      ],
      "metadata": {
        "id": "0pxu2zRRJtAp"
      }
    },
    {
      "cell_type": "code",
      "source": [
        "diabetes['RespostaDeInteresse'].value_counts().head(25).plot.bar()"
      ],
      "metadata": {
        "id": "ZGGp5zGbJtAp"
      },
      "execution_count": null,
      "outputs": []
    },
    {
      "cell_type": "markdown",
      "source": [
        ""
      ],
      "metadata": {
        "id": "yPcj03_2JtAp"
      }
    },
    {
      "cell_type": "code",
      "source": [
        "sns.countplot(x='RespostaDeInteresse', data=diabetes)"
      ],
      "metadata": {
        "id": "psvl0-IAJtAp"
      },
      "execution_count": null,
      "outputs": []
    },
    {
      "cell_type": "code",
      "source": [
        "sns.distplot(diabetes['RespostaDeInteresse'])"
      ],
      "metadata": {
        "id": "NqpvG2OvJtAp"
      },
      "execution_count": null,
      "outputs": []
    },
    {
      "cell_type": "code",
      "source": [
        "sns.displot(df['RespostaDeInteresse'])"
      ],
      "metadata": {
        "colab": {
          "base_uri": "https://localhost:8080/",
          "height": 386
        },
        "id": "YFN3kr0XtAsG",
        "outputId": "33917842-75ee-4c26-8ce4-661cc8dcbc5e"
      },
      "execution_count": 344,
      "outputs": [
        {
          "output_type": "execute_result",
          "data": {
            "text/plain": [
              "<seaborn.axisgrid.FacetGrid at 0x7f0d56510ad0>"
            ]
          },
          "metadata": {},
          "execution_count": 344
        },
        {
          "output_type": "display_data",
          "data": {
            "text/plain": [
              "<Figure size 360x360 with 1 Axes>"
            ],
            "image/png": "[encoded data removed]"
          },
          "metadata": {
            "needs_background": "light"
          }
        }
      ]
    },
    {
      "cell_type": "markdown",
      "source": [
        "Foi possível analisar a progressão do diabetes que está representada pelo atributo RespostaDeInteresse porque esta era a única coluna que não havia sido padronizada."
      ],
      "metadata": {
        "id": "u_YrqlxHuZZv"
      }
    },
    {
      "cell_type": "markdown",
      "source": [
        "Calculando a média aritmética"
      ],
      "metadata": {
        "id": "oo0buYESJtAr"
      }
    },
    {
      "cell_type": "code",
      "source": [
        "df[\"RespostaDeInteresse\"].mean()"
      ],
      "metadata": {
        "colab": {
          "base_uri": "https://localhost:8080/"
        },
        "outputId": "52c249f8-9e92-4cda-e5a5-4fcf5f16f16b",
        "id": "wq4V7PpTJtAt"
      },
      "execution_count": 345,
      "outputs": [
        {
          "output_type": "execute_result",
          "data": {
            "text/plain": [
              "152.13348416289594"
            ]
          },
          "metadata": {},
          "execution_count": 345
        }
      ]
    },
    {
      "cell_type": "code",
      "source": [
        "RESPOSTADEINTERESSE = df[\"RespostaDeInteresse\"]"
      ],
      "metadata": {
        "id": "PSXPam4MVg5m"
      },
      "execution_count": 346,
      "outputs": []
    },
    {
      "cell_type": "code",
      "metadata": {
        "colab": {
          "base_uri": "https://localhost:8080/"
        },
        "outputId": "28b96d06-5f09-42d1-b5b8-ba6c4e10f6f5",
        "id": "2luGtiIlVg5n"
      },
      "source": [
        "RESPOSTADEINTERESSE.mean()"
      ],
      "execution_count": 347,
      "outputs": [
        {
          "output_type": "execute_result",
          "data": {
            "text/plain": [
              "152.13348416289594"
            ]
          },
          "metadata": {},
          "execution_count": 347
        }
      ]
    },
    {
      "cell_type": "markdown",
      "source": [
        "Média geométrica"
      ],
      "metadata": {
        "id": "vH3LtYVWJtAu"
      }
    },
    {
      "cell_type": "code",
      "source": [
        "gmean(RESPOSTADEINTERESSE)"
      ],
      "metadata": {
        "colab": {
          "base_uri": "https://localhost:8080/"
        },
        "outputId": "0a337f31-1129-46a4-d2a7-fd5406b1531a",
        "id": "DoOWtGJyJtAu"
      },
      "execution_count": 348,
      "outputs": [
        {
          "output_type": "execute_result",
          "data": {
            "text/plain": [
              "131.80491650792933"
            ]
          },
          "metadata": {},
          "execution_count": 348
        }
      ]
    },
    {
      "cell_type": "markdown",
      "source": [
        "Média Harmônica"
      ],
      "metadata": {
        "id": "361TI6uXJtAu"
      }
    },
    {
      "cell_type": "code",
      "source": [
        "hmean(RESPOSTADEINTERESSE)"
      ],
      "metadata": {
        "colab": {
          "base_uri": "https://localhost:8080/"
        },
        "outputId": "4ef41446-5863-491e-b138-a4b8dc73c135",
        "id": "b9uAyRhKJtAu"
      },
      "execution_count": 349,
      "outputs": [
        {
          "output_type": "execute_result",
          "data": {
            "text/plain": [
              "112.1426789020187"
            ]
          },
          "metadata": {},
          "execution_count": 349
        }
      ]
    },
    {
      "cell_type": "markdown",
      "source": [
        "Mediana"
      ],
      "metadata": {
        "id": "rp5dW2nQJtAv"
      }
    },
    {
      "cell_type": "code",
      "source": [
        "RESPOSTADEINTERESSE.median()"
      ],
      "metadata": {
        "colab": {
          "base_uri": "https://localhost:8080/"
        },
        "outputId": "225a4fe7-93a6-40fd-f4da-a1fe4ad3bb14",
        "id": "VfVJnaZQJtAv"
      },
      "execution_count": 350,
      "outputs": [
        {
          "output_type": "execute_result",
          "data": {
            "text/plain": [
              "140.5"
            ]
          },
          "metadata": {},
          "execution_count": 350
        }
      ]
    },
    {
      "cell_type": "markdown",
      "source": [
        "Moda"
      ],
      "metadata": {
        "id": "lQhGombRJtAv"
      }
    },
    {
      "cell_type": "code",
      "source": [
        "RESPOSTADEINTERESSE.mode()"
      ],
      "metadata": {
        "colab": {
          "base_uri": "https://localhost:8080/"
        },
        "outputId": "97b38032-4f21-4ed8-ae4c-47d0bdeefd99",
        "id": "URpdg9MeJtAv"
      },
      "execution_count": 351,
      "outputs": [
        {
          "output_type": "execute_result",
          "data": {
            "text/plain": [
              "0     72.0\n",
              "1    200.0\n",
              "dtype: float64"
            ]
          },
          "metadata": {},
          "execution_count": 351
        }
      ]
    },
    {
      "cell_type": "markdown",
      "source": [
        "*Variância*"
      ],
      "metadata": {
        "id": "ZuFCP9lPJtAv"
      }
    },
    {
      "cell_type": "code",
      "source": [
        "RESPOSTADEINTERESSE.var()"
      ],
      "metadata": {
        "colab": {
          "base_uri": "https://localhost:8080/"
        },
        "outputId": "56b0b17a-b103-4536-928b-dcf5e764164a",
        "id": "KJPkVnjkJtAv"
      },
      "execution_count": 352,
      "outputs": [
        {
          "output_type": "execute_result",
          "data": {
            "text/plain": [
              "5943.331347923785"
            ]
          },
          "metadata": {},
          "execution_count": 352
        }
      ]
    },
    {
      "cell_type": "markdown",
      "source": [
        "Desvio padrão"
      ],
      "metadata": {
        "id": "dt0rYHpiJtAv"
      }
    },
    {
      "cell_type": "code",
      "source": [
        "RESPOSTADEINTERESSE.std()"
      ],
      "metadata": {
        "colab": {
          "base_uri": "https://localhost:8080/"
        },
        "outputId": "a4c3e344-9785-41d0-aeea-a8f224acf376",
        "id": "pZdV4X37JtAv"
      },
      "execution_count": 353,
      "outputs": [
        {
          "output_type": "execute_result",
          "data": {
            "text/plain": [
              "77.09300453299109"
            ]
          },
          "metadata": {},
          "execution_count": 353
        }
      ]
    },
    {
      "cell_type": "markdown",
      "source": [
        "Valor máximo"
      ],
      "metadata": {
        "id": "vg2bChMkJtAw"
      }
    },
    {
      "cell_type": "code",
      "source": [
        "RESPOSTADEINTERESSE.max()"
      ],
      "metadata": {
        "colab": {
          "base_uri": "https://localhost:8080/"
        },
        "outputId": "06c1085a-ed14-4421-e008-06157d0f54a5",
        "id": "WWXDHDIDJtAw"
      },
      "execution_count": 354,
      "outputs": [
        {
          "output_type": "execute_result",
          "data": {
            "text/plain": [
              "346.0"
            ]
          },
          "metadata": {},
          "execution_count": 354
        }
      ]
    },
    {
      "cell_type": "markdown",
      "source": [
        "Valor mínimo"
      ],
      "metadata": {
        "id": "ywk2lMDjJtAw"
      }
    },
    {
      "cell_type": "code",
      "source": [
        "RESPOSTADEINTERESSE.min()"
      ],
      "metadata": {
        "colab": {
          "base_uri": "https://localhost:8080/"
        },
        "outputId": "22c03af0-bf33-4f20-e7f6-e5a44a7f3f6c",
        "id": "tx-P-XRUJtAw"
      },
      "execution_count": 355,
      "outputs": [
        {
          "output_type": "execute_result",
          "data": {
            "text/plain": [
              "25.0"
            ]
          },
          "metadata": {},
          "execution_count": 355
        }
      ]
    },
    {
      "cell_type": "markdown",
      "source": [
        "MEDIDAS DE ASSIMETRIA"
      ],
      "metadata": {
        "id": "tWoSiRiFJtAw"
      }
    },
    {
      "cell_type": "markdown",
      "source": [
        "Função para calcular estatísticas"
      ],
      "metadata": {
        "id": "ZI89R4ZUJtAw"
      }
    },
    {
      "cell_type": "code",
      "metadata": {
        "id": "t8Juc6bqJtAw"
      },
      "source": [
        "def calcula_estatisticas(data):\n",
        "  mean = round(np.mean(data),2)\n",
        "  mode = round(stats.mode(data,)[0][0],2)\n",
        "  median = round(np.median(data),2)\n",
        "  var = round(np.var(data),2)\n",
        "  std = round(np.std(data),2)\n",
        "  coef_pearson = round(stats.skew(data),2)\n",
        "  coef_kurtosis = round(kurtosis(data),2)\n",
        "  msg = print(\"Media: {}\\nModa: {}\\nMediana: {}\\nVariância: {}\\nDesvio Padrão: {}\\nCoeficiente Person: {}\\nCoeficiente de Kurtosi: {}\".format(mean,median,mode,var,std,coef_pearson,coef_kurtosis))\n",
        "  return msg"
      ],
      "execution_count": 356,
      "outputs": []
    },
    {
      "cell_type": "code",
      "source": [
        "s1 = df[\"RespostaDeInteresse\"]"
      ],
      "metadata": {
        "id": "jJwUJnrkJtAx"
      },
      "execution_count": 357,
      "outputs": []
    },
    {
      "cell_type": "code",
      "source": [
        "calcula_estatisticas(s1)"
      ],
      "metadata": {
        "colab": {
          "base_uri": "https://localhost:8080/"
        },
        "outputId": "3814d896-8e4a-42c9-c09b-f5f37ca9ec02",
        "id": "xxR5rISsJtAx"
      },
      "execution_count": 358,
      "outputs": [
        {
          "output_type": "stream",
          "name": "stdout",
          "text": [
            "Media: 152.13\n",
            "Moda: 140.5\n",
            "Mediana: 72.0\n",
            "Variância: 5929.88\n",
            "Desvio Padrão: 77.01\n",
            "Coeficiente Person: 0.44\n",
            "Coeficiente de Kurtosi: -0.89\n"
          ]
        }
      ]
    },
    {
      "cell_type": "markdown",
      "source": [
        "Como nesse caso a média, a moda e a mediana tem valores bem próximos, temos uma  Distribuição  quase Simétrica."
      ],
      "metadata": {
        "id": "n5pZe-KvJtAx"
      }
    },
    {
      "cell_type": "code",
      "metadata": {
        "id": "Rbao4DtGJtAx"
      },
      "source": [
        "fig = plt.figure(figsize=(50, 30))\n",
        "ax = sns.distplot(so,rug=True,kde=True,hist=False)\n",
        "\n",
        "ax.annotate('Moda', xy=(140.5,0.01), xytext=(10, 100),arrowprops={'arrowstyle': '-'})         \n",
        "ax.annotate('Mediana', xy=(72.0, 0.01), xytext=(30, 100),arrowprops={'arrowstyle': '-'})\n",
        "ax.annotate('Média', xy=(152.13, 0.01), xytext=(45, 100),arrowprops={'arrowstyle': '-'})\n",
        "plt.show()"
      ],
      "execution_count": null,
      "outputs": []
    },
    {
      "cell_type": "markdown",
      "metadata": {
        "id": "GmwiqCDqJtAx"
      },
      "source": [
        "\n",
        "Coeficiente de Pearson - O valor é próximo de zero a distribuição é simétrica.\n",
        "\n",
        "Coeficiente de Curtose - O valor é menor que 3 o grau de achatamento da distribuição normal é platicúrtica (mais achatada no platô)"
      ]
    }
  ]
}