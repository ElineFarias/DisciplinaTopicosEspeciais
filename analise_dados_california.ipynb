{
  "nbformat": 4,
  "nbformat_minor": 0,
  "metadata": {
    "colab": {
      "name": "AnaliseDeDadosCalifornia.ipynb",
      "provenance": [],
      "collapsed_sections": [],
      "toc_visible": true
    },
    "kernelspec": {
      "name": "python3",
      "display_name": "Python 3"
    }
  },
  "cells": [
    {
      "cell_type": "markdown",
      "metadata": {
        "id": "3Ai7RlcjLHXG"
      },
      "source": [
        "#**Classificação de amostras de vinho** <br>"
      ]
    },
    {
      "cell_type": "markdown",
      "metadata": {
        "id": "s-s2bQnznkBn"
      },
      "source": [
        "\n",
        "<b>Resumo:</b>\n",
        "\n",
        "O objetivo analisar os atributos do dataset California <br>\n",
        "\n",
        "<b>Data set URL : </b>\n",
        "\n",
        "https://scikit-learn.org/stable/datasets/real_world.html#california-housing-dataset\n",
        "\n",
        "\n",
        "<b>Descrição:</b>\n",
        "\n",
        "Este projeto é realizado para  a disciplina Tópicos Especiais em Computação I (Introdução à Ciência de Dados).\n",
        "\n",
        "<b>Número de Instâncias:</b>\n",
        "\n",
        "20640\n",
        "\n",
        "<b>Atributos:</b>\n",
        "Renda mediana da MedInc no grupo de blocos\n",
        "\n",
        "HouseAge idade média da casa no grupo de quarteirões\n",
        "\n",
        "AveRooms número médio de quartos por família\n",
        "\n",
        "AveBedrms número médio de quartos por família\n",
        "\n",
        "População do grupo de blocos populacionais\n",
        "\n",
        "AveOccup número médio de membros da família\n",
        "\n",
        "Latitude do grupo de blocos de latitude\n",
        "\n",
        "Longitude do grupo de blocos de longitude\n",
        "\n"
      ]
    },
    {
      "cell_type": "markdown",
      "metadata": {
        "id": "OJrEXLrSU6n-"
      },
      "source": [
        "\n",
        "## <b>Importando Bibliotecas"
      ]
    },
    {
      "cell_type": "code",
      "source": [
        "import pandas as pd               \n",
        "import numpy as np\n",
        "import seaborn as sns\n",
        "import matplotlib.pyplot as plt\n",
        "from cycler import cycler\n",
        "from scipy.stats.mstats import gmean,hmean\n",
        "from scipy import stats\n",
        "import math\n",
        "from scipy.stats import kurtosis, skew\n",
        "%matplotlib inline"
      ],
      "metadata": {
        "id": "NxEeIqvtJGxz"
      },
      "execution_count": 10,
      "outputs": []
    },
    {
      "cell_type": "markdown",
      "metadata": {
        "id": "rvXNkBBY0S_q"
      },
      "source": [
        "## <b>Carregando a Base de Dados\n"
      ]
    },
    {
      "cell_type": "code",
      "metadata": {
        "id": "qgxho-okUkdb"
      },
      "source": [
        "# carregando dataset California Housing\n",
        "from sklearn.datasets import fetch_california_housing\n",
        "dataCalifornia = fetch_california_housing()\n"
      ],
      "execution_count": 11,
      "outputs": []
    },
    {
      "cell_type": "code",
      "source": [
        "print(dataCalifornia['DESCR'])"
      ],
      "metadata": {
        "colab": {
          "base_uri": "https://localhost:8080/"
        },
        "id": "9ojTNvwQq5PR",
        "outputId": "10a525d0-5565-4247-8648-23373bd5ef15"
      },
      "execution_count": 12,
      "outputs": [
        {
          "output_type": "stream",
          "name": "stdout",
          "text": [
            ".. _california_housing_dataset:\n",
            "\n",
            "California Housing dataset\n",
            "--------------------------\n",
            "\n",
            "**Data Set Characteristics:**\n",
            "\n",
            "    :Number of Instances: 20640\n",
            "\n",
            "    :Number of Attributes: 8 numeric, predictive attributes and the target\n",
            "\n",
            "    :Attribute Information:\n",
            "        - MedInc        median income in block group\n",
            "        - HouseAge      median house age in block group\n",
            "        - AveRooms      average number of rooms per household\n",
            "        - AveBedrms     average number of bedrooms per household\n",
            "        - Population    block group population\n",
            "        - AveOccup      average number of household members\n",
            "        - Latitude      block group latitude\n",
            "        - Longitude     block group longitude\n",
            "\n",
            "    :Missing Attribute Values: None\n",
            "\n",
            "This dataset was obtained from the StatLib repository.\n",
            "https://www.dcc.fc.up.pt/~ltorgo/Regression/cal_housing.html\n",
            "\n",
            "The target variable is the median house value for California districts,\n",
            "expressed in hundreds of thousands of dollars ($100,000).\n",
            "\n",
            "This dataset was derived from the 1990 U.S. census, using one row per census\n",
            "block group. A block group is the smallest geographical unit for which the U.S.\n",
            "Census Bureau publishes sample data (a block group typically has a population\n",
            "of 600 to 3,000 people).\n",
            "\n",
            "An household is a group of people residing within a home. Since the average\n",
            "number of rooms and bedrooms in this dataset are provided per household, these\n",
            "columns may take surpinsingly large values for block groups with few households\n",
            "and many empty houses, such as vacation resorts.\n",
            "\n",
            "It can be downloaded/loaded using the\n",
            ":func:`sklearn.datasets.fetch_california_housing` function.\n",
            "\n",
            ".. topic:: References\n",
            "\n",
            "    - Pace, R. Kelley and Ronald Barry, Sparse Spatial Autoregressions,\n",
            "      Statistics and Probability Letters, 33 (1997) 291-297\n",
            "\n"
          ]
        }
      ]
    },
    {
      "cell_type": "markdown",
      "source": [
        "Os 178 pontos de dados em cada um dos 13 grupos de dados, formatados como uma matriz de 150x13"
      ],
      "metadata": {
        "id": "u5WEXjzIrlXz"
      }
    },
    {
      "cell_type": "code",
      "source": [
        "print(dataCalifornia['data'][:2])\n"
      ],
      "metadata": {
        "colab": {
          "base_uri": "https://localhost:8080/"
        },
        "id": "d7YKrIz_rfT2",
        "outputId": "aea7980b-b33f-4c46-cee3-dda8101539c4"
      },
      "execution_count": 13,
      "outputs": [
        {
          "output_type": "stream",
          "name": "stdout",
          "text": [
            "[[ 8.32520000e+00  4.10000000e+01  6.98412698e+00  1.02380952e+00\n",
            "   3.22000000e+02  2.55555556e+00  3.78800000e+01 -1.22230000e+02]\n",
            " [ 8.30140000e+00  2.10000000e+01  6.23813708e+00  9.71880492e-01\n",
            "   2.40100000e+03  2.10984183e+00  3.78600000e+01 -1.22220000e+02]]\n"
          ]
        }
      ]
    },
    {
      "cell_type": "markdown",
      "source": [
        "Em qual grupo cada ponto de dados está (0, 1 ou 2)"
      ],
      "metadata": {
        "id": "1VVzURwBsNAz"
      }
    },
    {
      "cell_type": "code",
      "source": [
        "print(dataCalifornia['target'])"
      ],
      "metadata": {
        "colab": {
          "base_uri": "https://localhost:8080/"
        },
        "id": "j1LUWZtPsHxT",
        "outputId": "988f876f-fbfc-4a6b-fe23-7bb5ecb36c30"
      },
      "execution_count": 14,
      "outputs": [
        {
          "output_type": "stream",
          "name": "stdout",
          "text": [
            "[4.526 3.585 3.521 ... 0.923 0.847 0.894]\n"
          ]
        }
      ]
    },
    {
      "cell_type": "markdown",
      "source": [
        " Convertendo dados em um quadro de dados"
      ],
      "metadata": {
        "id": "9n2OAEaysYtW"
      }
    },
    {
      "cell_type": "code",
      "source": [
        "data = pd.DataFrame(dataCalifornia['data'], columns=dataCalifornia['feature_names'])"
      ],
      "metadata": {
        "id": "7smP-kUutQby"
      },
      "execution_count": 15,
      "outputs": []
    },
    {
      "cell_type": "code",
      "source": [
        "target = pd.DataFrame(dataCalifornia['target'], columns=['ValorMedCasaCalifornia'])"
      ],
      "metadata": {
        "id": "-OLEtzLztzCx"
      },
      "execution_count": 16,
      "outputs": []
    },
    {
      "cell_type": "code",
      "source": [
        "df = pd.concat([target, data], axis='columns')"
      ],
      "metadata": {
        "id": "dBWgeaUrt-n-"
      },
      "execution_count": 17,
      "outputs": []
    },
    {
      "cell_type": "markdown",
      "metadata": {
        "id": "1Ibr7VMm21D8"
      },
      "source": [
        "# **Exploração de dados**"
      ]
    },
    {
      "cell_type": "markdown",
      "source": [
        "Plot"
      ],
      "metadata": {
        "id": "nhG5zo16uAxM"
      }
    },
    {
      "cell_type": "code",
      "source": [
        "plt.scatter(df['HouseAge'], df['Population'], c=df['ValorMedCasaCalifornia'])\n",
        "plt.title('Idade da casa x População')\n",
        "plt.xlabel('HouseAge')\n",
        "plt.ylabel('Population')\n",
        "plt.show()"
      ],
      "metadata": {
        "colab": {
          "base_uri": "https://localhost:8080/",
          "height": 295
        },
        "id": "hFTeQG6iAmCK",
        "outputId": "c81c3471-9925-41f5-fce0-4e39d286ca8b"
      },
      "execution_count": 27,
      "outputs": [
        {
          "output_type": "display_data",
          "data": {
            "text/plain": [
              "<Figure size 432x288 with 1 Axes>"
            ],
            "image/png": "[encoded data removed]"
          },
          "metadata": {
            "needs_background": "light"
          }
        }
      ]
    },
    {
      "cell_type": "code",
      "source": [
        "df.head(10)"
      ],
      "metadata": {
        "colab": {
          "base_uri": "https://localhost:8080/",
          "height": 363
        },
        "id": "MZUZd5pru4Xu",
        "outputId": "4fc58029-0b1a-45d7-fd65-199e732f4e4c"
      },
      "execution_count": 19,
      "outputs": [
        {
          "output_type": "execute_result",
          "data": {
            "text/plain": [
              "   ValorMedCasaCalifornia  MedInc  HouseAge  AveRooms  AveBedrms  Population  \\\n",
              "0                   4.526  8.3252      41.0  6.984127   1.023810       322.0   \n",
              "1                   3.585  8.3014      21.0  6.238137   0.971880      2401.0   \n",
              "2                   3.521  7.2574      52.0  8.288136   1.073446       496.0   \n",
              "3                   3.413  5.6431      52.0  5.817352   1.073059       558.0   \n",
              "4                   3.422  3.8462      52.0  6.281853   1.081081       565.0   \n",
              "5                   2.697  4.0368      52.0  4.761658   1.103627       413.0   \n",
              "6                   2.992  3.6591      52.0  4.931907   0.951362      1094.0   \n",
              "7                   2.414  3.1200      52.0  4.797527   1.061824      1157.0   \n",
              "8                   2.267  2.0804      42.0  4.294118   1.117647      1206.0   \n",
              "9                   2.611  3.6912      52.0  4.970588   0.990196      1551.0   \n",
              "\n",
              "   AveOccup  Latitude  Longitude  \n",
              "0  2.555556     37.88    -122.23  \n",
              "1  2.109842     37.86    -122.22  \n",
              "2  2.802260     37.85    -122.24  \n",
              "3  2.547945     37.85    -122.25  \n",
              "4  2.181467     37.85    -122.25  \n",
              "5  2.139896     37.85    -122.25  \n",
              "6  2.128405     37.84    -122.25  \n",
              "7  1.788253     37.84    -122.25  \n",
              "8  2.026891     37.84    -122.26  \n",
              "9  2.172269     37.84    -122.25  "
            ],
            "text/html": [
              "\n",
              "  <div id=\"df-b5f67e1a-bb62-4a6f-87ee-997370956b82\">\n",
              "    <div class=\"colab-df-container\">\n",
              "      <div>\n",
              "<style scoped>\n",
              "    .dataframe tbody tr th:only-of-type {\n",
              "        vertical-align: middle;\n",
              "    }\n",
              "\n",
              "    .dataframe tbody tr th {\n",
              "        vertical-align: top;\n",
              "    }\n",
              "\n",
              "    .dataframe thead th {\n",
              "        text-align: right;\n",
              "    }\n",
              "</style>\n",
              "<table border=\"1\" class=\"dataframe\">\n",
              "  <thead>\n",
              "    <tr style=\"text-align: right;\">\n",
              "      <th></th>\n",
              "      <th>ValorMedCasaCalifornia</th>\n",
              "      <th>MedInc</th>\n",
              "      <th>HouseAge</th>\n",
              "      <th>AveRooms</th>\n",
              "      <th>AveBedrms</th>\n",
              "      <th>Population</th>\n",
              "      <th>AveOccup</th>\n",
              "      <th>Latitude</th>\n",
              "      <th>Longitude</th>\n",
              "    </tr>\n",
              "  </thead>\n",
              "  <tbody>\n",
              "    <tr>\n",
              "      <th>0</th>\n",
              "      <td>4.526</td>\n",
              "      <td>8.3252</td>\n",
              "      <td>41.0</td>\n",
              "      <td>6.984127</td>\n",
              "      <td>1.023810</td>\n",
              "      <td>322.0</td>\n",
              "      <td>2.555556</td>\n",
              "      <td>37.88</td>\n",
              "      <td>-122.23</td>\n",
              "    </tr>\n",
              "    <tr>\n",
              "      <th>1</th>\n",
              "      <td>3.585</td>\n",
              "      <td>8.3014</td>\n",
              "      <td>21.0</td>\n",
              "      <td>6.238137</td>\n",
              "      <td>0.971880</td>\n",
              "      <td>2401.0</td>\n",
              "      <td>2.109842</td>\n",
              "      <td>37.86</td>\n",
              "      <td>-122.22</td>\n",
              "    </tr>\n",
              "    <tr>\n",
              "      <th>2</th>\n",
              "      <td>3.521</td>\n",
              "      <td>7.2574</td>\n",
              "      <td>52.0</td>\n",
              "      <td>8.288136</td>\n",
              "      <td>1.073446</td>\n",
              "      <td>496.0</td>\n",
              "      <td>2.802260</td>\n",
              "      <td>37.85</td>\n",
              "      <td>-122.24</td>\n",
              "    </tr>\n",
              "    <tr>\n",
              "      <th>3</th>\n",
              "      <td>3.413</td>\n",
              "      <td>5.6431</td>\n",
              "      <td>52.0</td>\n",
              "      <td>5.817352</td>\n",
              "      <td>1.073059</td>\n",
              "      <td>558.0</td>\n",
              "      <td>2.547945</td>\n",
              "      <td>37.85</td>\n",
              "      <td>-122.25</td>\n",
              "    </tr>\n",
              "    <tr>\n",
              "      <th>4</th>\n",
              "      <td>3.422</td>\n",
              "      <td>3.8462</td>\n",
              "      <td>52.0</td>\n",
              "      <td>6.281853</td>\n",
              "      <td>1.081081</td>\n",
              "      <td>565.0</td>\n",
              "      <td>2.181467</td>\n",
              "      <td>37.85</td>\n",
              "      <td>-122.25</td>\n",
              "    </tr>\n",
              "    <tr>\n",
              "      <th>5</th>\n",
              "      <td>2.697</td>\n",
              "      <td>4.0368</td>\n",
              "      <td>52.0</td>\n",
              "      <td>4.761658</td>\n",
              "      <td>1.103627</td>\n",
              "      <td>413.0</td>\n",
              "      <td>2.139896</td>\n",
              "      <td>37.85</td>\n",
              "      <td>-122.25</td>\n",
              "    </tr>\n",
              "    <tr>\n",
              "      <th>6</th>\n",
              "      <td>2.992</td>\n",
              "      <td>3.6591</td>\n",
              "      <td>52.0</td>\n",
              "      <td>4.931907</td>\n",
              "      <td>0.951362</td>\n",
              "      <td>1094.0</td>\n",
              "      <td>2.128405</td>\n",
              "      <td>37.84</td>\n",
              "      <td>-122.25</td>\n",
              "    </tr>\n",
              "    <tr>\n",
              "      <th>7</th>\n",
              "      <td>2.414</td>\n",
              "      <td>3.1200</td>\n",
              "      <td>52.0</td>\n",
              "      <td>4.797527</td>\n",
              "      <td>1.061824</td>\n",
              "      <td>1157.0</td>\n",
              "      <td>1.788253</td>\n",
              "      <td>37.84</td>\n",
              "      <td>-122.25</td>\n",
              "    </tr>\n",
              "    <tr>\n",
              "      <th>8</th>\n",
              "      <td>2.267</td>\n",
              "      <td>2.0804</td>\n",
              "      <td>42.0</td>\n",
              "      <td>4.294118</td>\n",
              "      <td>1.117647</td>\n",
              "      <td>1206.0</td>\n",
              "      <td>2.026891</td>\n",
              "      <td>37.84</td>\n",
              "      <td>-122.26</td>\n",
              "    </tr>\n",
              "    <tr>\n",
              "      <th>9</th>\n",
              "      <td>2.611</td>\n",
              "      <td>3.6912</td>\n",
              "      <td>52.0</td>\n",
              "      <td>4.970588</td>\n",
              "      <td>0.990196</td>\n",
              "      <td>1551.0</td>\n",
              "      <td>2.172269</td>\n",
              "      <td>37.84</td>\n",
              "      <td>-122.25</td>\n",
              "    </tr>\n",
              "  </tbody>\n",
              "</table>\n",
              "</div>\n",
              "      <button class=\"colab-df-convert\" onclick=\"convertToInteractive('df-b5f67e1a-bb62-4a6f-87ee-997370956b82')\"\n",
              "              title=\"Convert this dataframe to an interactive table.\"\n",
              "              style=\"display:none;\">\n",
              "        \n",
              "  <svg xmlns=\"http://www.w3.org/2000/svg\" height=\"24px\"viewBox=\"0 0 24 24\"\n",
              "       width=\"24px\">\n",
              "    <path d=\"M0 0h24v24H0V0z\" fill=\"none\"/>\n",
              "    <path d=\"M18.56 5.44l.94 2.06.94-2.06 2.06-.94-2.06-.94-.94-2.06-.94 2.06-2.06.94zm-11 1L8.5 8.5l.94-2.06 2.06-.94-2.06-.94L8.5 2.5l-.94 2.06-2.06.94zm10 10l.94 2.06.94-2.06 2.06-.94-2.06-.94-.94-2.06-.94 2.06-2.06.94z\"/><path d=\"M17.41 7.96l-1.37-1.37c-.4-.4-.92-.59-1.43-.59-.52 0-1.04.2-1.43.59L10.3 9.45l-7.72 7.72c-.78.78-.78 2.05 0 2.83L4 21.41c.39.39.9.59 1.41.59.51 0 1.02-.2 1.41-.59l7.78-7.78 2.81-2.81c.8-.78.8-2.07 0-2.86zM5.41 20L4 18.59l7.72-7.72 1.47 1.35L5.41 20z\"/>\n",
              "  </svg>\n",
              "      </button>\n",
              "      \n",
              "  <style>\n",
              "    .colab-df-container {\n",
              "      display:flex;\n",
              "      flex-wrap:wrap;\n",
              "      gap: 12px;\n",
              "    }\n",
              "\n",
              "    .colab-df-convert {\n",
              "      background-color: #E8F0FE;\n",
              "      border: none;\n",
              "      border-radius: 50%;\n",
              "      cursor: pointer;\n",
              "      display: none;\n",
              "      fill: #1967D2;\n",
              "      height: 32px;\n",
              "      padding: 0 0 0 0;\n",
              "      width: 32px;\n",
              "    }\n",
              "\n",
              "    .colab-df-convert:hover {\n",
              "      background-color: #E2EBFA;\n",
              "      box-shadow: 0px 1px 2px rgba(60, 64, 67, 0.3), 0px 1px 3px 1px rgba(60, 64, 67, 0.15);\n",
              "      fill: #174EA6;\n",
              "    }\n",
              "\n",
              "    [theme=dark] .colab-df-convert {\n",
              "      background-color: #3B4455;\n",
              "      fill: #D2E3FC;\n",
              "    }\n",
              "\n",
              "    [theme=dark] .colab-df-convert:hover {\n",
              "      background-color: #434B5C;\n",
              "      box-shadow: 0px 1px 3px 1px rgba(0, 0, 0, 0.15);\n",
              "      filter: drop-shadow(0px 1px 2px rgba(0, 0, 0, 0.3));\n",
              "      fill: #FFFFFF;\n",
              "    }\n",
              "  </style>\n",
              "\n",
              "      <script>\n",
              "        const buttonEl =\n",
              "          document.querySelector('#df-b5f67e1a-bb62-4a6f-87ee-997370956b82 button.colab-df-convert');\n",
              "        buttonEl.style.display =\n",
              "          google.colab.kernel.accessAllowed ? 'block' : 'none';\n",
              "\n",
              "        async function convertToInteractive(key) {\n",
              "          const element = document.querySelector('#df-b5f67e1a-bb62-4a6f-87ee-997370956b82');\n",
              "          const dataTable =\n",
              "            await google.colab.kernel.invokeFunction('convertToInteractive',\n",
              "                                                     [key], {});\n",
              "          if (!dataTable) return;\n",
              "\n",
              "          const docLinkHtml = 'Like what you see? Visit the ' +\n",
              "            '<a target=\"_blank\" href=https://colab.research.google.com/notebooks/data_table.ipynb>data table notebook</a>'\n",
              "            + ' to learn more about interactive tables.';\n",
              "          element.innerHTML = '';\n",
              "          dataTable['output_type'] = 'display_data';\n",
              "          await google.colab.output.renderOutput(dataTable, element);\n",
              "          const docLink = document.createElement('div');\n",
              "          docLink.innerHTML = docLinkHtml;\n",
              "          element.appendChild(docLink);\n",
              "        }\n",
              "      </script>\n",
              "    </div>\n",
              "  </div>\n",
              "  "
            ]
          },
          "metadata": {},
          "execution_count": 19
        }
      ]
    },
    {
      "cell_type": "code",
      "source": [
        "df.info()"
      ],
      "metadata": {
        "colab": {
          "base_uri": "https://localhost:8080/"
        },
        "id": "mPlIL8IsunC7",
        "outputId": "5ce882ad-3794-472a-8149-05d3234bad65"
      },
      "execution_count": 20,
      "outputs": [
        {
          "output_type": "stream",
          "name": "stdout",
          "text": [
            "<class 'pandas.core.frame.DataFrame'>\n",
            "RangeIndex: 20640 entries, 0 to 20639\n",
            "Data columns (total 9 columns):\n",
            " #   Column                  Non-Null Count  Dtype  \n",
            "---  ------                  --------------  -----  \n",
            " 0   ValorMedCasaCalifornia  20640 non-null  float64\n",
            " 1   MedInc                  20640 non-null  float64\n",
            " 2   HouseAge                20640 non-null  float64\n",
            " 3   AveRooms                20640 non-null  float64\n",
            " 4   AveBedrms               20640 non-null  float64\n",
            " 5   Population              20640 non-null  float64\n",
            " 6   AveOccup                20640 non-null  float64\n",
            " 7   Latitude                20640 non-null  float64\n",
            " 8   Longitude               20640 non-null  float64\n",
            "dtypes: float64(9)\n",
            "memory usage: 1.4 MB\n"
          ]
        }
      ]
    },
    {
      "cell_type": "code",
      "source": [
        "df.info()"
      ],
      "metadata": {
        "colab": {
          "base_uri": "https://localhost:8080/"
        },
        "id": "zoMaIXo2w86_",
        "outputId": "0d2420ff-a588-439a-bb2a-411bb4282e94"
      },
      "execution_count": 21,
      "outputs": [
        {
          "output_type": "stream",
          "name": "stdout",
          "text": [
            "<class 'pandas.core.frame.DataFrame'>\n",
            "RangeIndex: 20640 entries, 0 to 20639\n",
            "Data columns (total 9 columns):\n",
            " #   Column                  Non-Null Count  Dtype  \n",
            "---  ------                  --------------  -----  \n",
            " 0   ValorMedCasaCalifornia  20640 non-null  float64\n",
            " 1   MedInc                  20640 non-null  float64\n",
            " 2   HouseAge                20640 non-null  float64\n",
            " 3   AveRooms                20640 non-null  float64\n",
            " 4   AveBedrms               20640 non-null  float64\n",
            " 5   Population              20640 non-null  float64\n",
            " 6   AveOccup                20640 non-null  float64\n",
            " 7   Latitude                20640 non-null  float64\n",
            " 8   Longitude               20640 non-null  float64\n",
            "dtypes: float64(9)\n",
            "memory usage: 1.4 MB\n"
          ]
        }
      ]
    },
    {
      "cell_type": "code",
      "source": [
        "df.describe"
      ],
      "metadata": {
        "colab": {
          "base_uri": "https://localhost:8080/"
        },
        "id": "eAKi17rQxJOr",
        "outputId": "d8acad6c-6abd-4e61-cfcb-c50d6c902cc0"
      },
      "execution_count": 22,
      "outputs": [
        {
          "output_type": "execute_result",
          "data": {
            "text/plain": [
              "<bound method NDFrame.describe of        ValorMedCasaCalifornia  MedInc  HouseAge  AveRooms  AveBedrms  \\\n",
              "0                       4.526  8.3252      41.0  6.984127   1.023810   \n",
              "1                       3.585  8.3014      21.0  6.238137   0.971880   \n",
              "2                       3.521  7.2574      52.0  8.288136   1.073446   \n",
              "3                       3.413  5.6431      52.0  5.817352   1.073059   \n",
              "4                       3.422  3.8462      52.0  6.281853   1.081081   \n",
              "...                       ...     ...       ...       ...        ...   \n",
              "20635                   0.781  1.5603      25.0  5.045455   1.133333   \n",
              "20636                   0.771  2.5568      18.0  6.114035   1.315789   \n",
              "20637                   0.923  1.7000      17.0  5.205543   1.120092   \n",
              "20638                   0.847  1.8672      18.0  5.329513   1.171920   \n",
              "20639                   0.894  2.3886      16.0  5.254717   1.162264   \n",
              "\n",
              "       Population  AveOccup  Latitude  Longitude  \n",
              "0           322.0  2.555556     37.88    -122.23  \n",
              "1          2401.0  2.109842     37.86    -122.22  \n",
              "2           496.0  2.802260     37.85    -122.24  \n",
              "3           558.0  2.547945     37.85    -122.25  \n",
              "4           565.0  2.181467     37.85    -122.25  \n",
              "...           ...       ...       ...        ...  \n",
              "20635       845.0  2.560606     39.48    -121.09  \n",
              "20636       356.0  3.122807     39.49    -121.21  \n",
              "20637      1007.0  2.325635     39.43    -121.22  \n",
              "20638       741.0  2.123209     39.43    -121.32  \n",
              "20639      1387.0  2.616981     39.37    -121.24  \n",
              "\n",
              "[20640 rows x 9 columns]>"
            ]
          },
          "metadata": {},
          "execution_count": 22
        }
      ]
    },
    {
      "cell_type": "markdown",
      "source": [
        "## <b>Verificar Valores nulos"
      ],
      "metadata": {
        "id": "wEslvKYbdma8"
      }
    },
    {
      "cell_type": "code",
      "metadata": {
        "id": "QR1YrBH-VK--",
        "outputId": "b6fa2c41-7900-4522-9005-8cb023930415",
        "colab": {
          "base_uri": "https://localhost:8080/"
        }
      },
      "source": [
        "data.isnull().sum()"
      ],
      "execution_count": 23,
      "outputs": [
        {
          "output_type": "execute_result",
          "data": {
            "text/plain": [
              "MedInc        0\n",
              "HouseAge      0\n",
              "AveRooms      0\n",
              "AveBedrms     0\n",
              "Population    0\n",
              "AveOccup      0\n",
              "Latitude      0\n",
              "Longitude     0\n",
              "dtype: int64"
            ]
          },
          "metadata": {},
          "execution_count": 23
        }
      ]
    },
    {
      "cell_type": "markdown",
      "metadata": {
        "id": "docvAXYh7JzI"
      },
      "source": [
        "Esta função conta as colunas que contêm valor nulo, mas aqui parece que os dados são pré-processados ​​e limpos com valores nulos."
      ]
    },
    {
      "cell_type": "markdown",
      "metadata": {
        "id": "CipBwlzDWf32"
      },
      "source": [
        "## **Informações estatísticas para conjunto de dados**"
      ]
    },
    {
      "cell_type": "code",
      "source": [
        "data.info()"
      ],
      "metadata": {
        "colab": {
          "base_uri": "https://localhost:8080/"
        },
        "id": "DdJODmkyljZv",
        "outputId": "0f2729ad-aaea-4336-bc96-b45be77f9e38"
      },
      "execution_count": 24,
      "outputs": [
        {
          "output_type": "stream",
          "name": "stdout",
          "text": [
            "<class 'pandas.core.frame.DataFrame'>\n",
            "RangeIndex: 20640 entries, 0 to 20639\n",
            "Data columns (total 8 columns):\n",
            " #   Column      Non-Null Count  Dtype  \n",
            "---  ------      --------------  -----  \n",
            " 0   MedInc      20640 non-null  float64\n",
            " 1   HouseAge    20640 non-null  float64\n",
            " 2   AveRooms    20640 non-null  float64\n",
            " 3   AveBedrms   20640 non-null  float64\n",
            " 4   Population  20640 non-null  float64\n",
            " 5   AveOccup    20640 non-null  float64\n",
            " 6   Latitude    20640 non-null  float64\n",
            " 7   Longitude   20640 non-null  float64\n",
            "dtypes: float64(8)\n",
            "memory usage: 1.3 MB\n"
          ]
        }
      ]
    },
    {
      "cell_type": "code",
      "source": [
        "data.describe().T"
      ],
      "metadata": {
        "colab": {
          "base_uri": "https://localhost:8080/",
          "height": 300
        },
        "id": "vu6QBsmdf3qY",
        "outputId": "6d0cfaa2-69f3-4edf-b338-9bbe192b7d53"
      },
      "execution_count": 25,
      "outputs": [
        {
          "output_type": "execute_result",
          "data": {
            "text/plain": [
              "              count         mean          std         min         25%  \\\n",
              "MedInc      20640.0     3.870671     1.899822    0.499900    2.563400   \n",
              "HouseAge    20640.0    28.639486    12.585558    1.000000   18.000000   \n",
              "AveRooms    20640.0     5.429000     2.474173    0.846154    4.440716   \n",
              "AveBedrms   20640.0     1.096675     0.473911    0.333333    1.006079   \n",
              "Population  20640.0  1425.476744  1132.462122    3.000000  787.000000   \n",
              "AveOccup    20640.0     3.070655    10.386050    0.692308    2.429741   \n",
              "Latitude    20640.0    35.631861     2.135952   32.540000   33.930000   \n",
              "Longitude   20640.0  -119.569704     2.003532 -124.350000 -121.800000   \n",
              "\n",
              "                    50%          75%           max  \n",
              "MedInc         3.534800     4.743250     15.000100  \n",
              "HouseAge      29.000000    37.000000     52.000000  \n",
              "AveRooms       5.229129     6.052381    141.909091  \n",
              "AveBedrms      1.048780     1.099526     34.066667  \n",
              "Population  1166.000000  1725.000000  35682.000000  \n",
              "AveOccup       2.818116     3.282261   1243.333333  \n",
              "Latitude      34.260000    37.710000     41.950000  \n",
              "Longitude   -118.490000  -118.010000   -114.310000  "
            ],
            "text/html": [
              "\n",
              "  <div id=\"df-84da0aed-3526-4616-a85b-8a69f80c549f\">\n",
              "    <div class=\"colab-df-container\">\n",
              "      <div>\n",
              "<style scoped>\n",
              "    .dataframe tbody tr th:only-of-type {\n",
              "        vertical-align: middle;\n",
              "    }\n",
              "\n",
              "    .dataframe tbody tr th {\n",
              "        vertical-align: top;\n",
              "    }\n",
              "\n",
              "    .dataframe thead th {\n",
              "        text-align: right;\n",
              "    }\n",
              "</style>\n",
              "<table border=\"1\" class=\"dataframe\">\n",
              "  <thead>\n",
              "    <tr style=\"text-align: right;\">\n",
              "      <th></th>\n",
              "      <th>count</th>\n",
              "      <th>mean</th>\n",
              "      <th>std</th>\n",
              "      <th>min</th>\n",
              "      <th>25%</th>\n",
              "      <th>50%</th>\n",
              "      <th>75%</th>\n",
              "      <th>max</th>\n",
              "    </tr>\n",
              "  </thead>\n",
              "  <tbody>\n",
              "    <tr>\n",
              "      <th>MedInc</th>\n",
              "      <td>20640.0</td>\n",
              "      <td>3.870671</td>\n",
              "      <td>1.899822</td>\n",
              "      <td>0.499900</td>\n",
              "      <td>2.563400</td>\n",
              "      <td>3.534800</td>\n",
              "      <td>4.743250</td>\n",
              "      <td>15.000100</td>\n",
              "    </tr>\n",
              "    <tr>\n",
              "      <th>HouseAge</th>\n",
              "      <td>20640.0</td>\n",
              "      <td>28.639486</td>\n",
              "      <td>12.585558</td>\n",
              "      <td>1.000000</td>\n",
              "      <td>18.000000</td>\n",
              "      <td>29.000000</td>\n",
              "      <td>37.000000</td>\n",
              "      <td>52.000000</td>\n",
              "    </tr>\n",
              "    <tr>\n",
              "      <th>AveRooms</th>\n",
              "      <td>20640.0</td>\n",
              "      <td>5.429000</td>\n",
              "      <td>2.474173</td>\n",
              "      <td>0.846154</td>\n",
              "      <td>4.440716</td>\n",
              "      <td>5.229129</td>\n",
              "      <td>6.052381</td>\n",
              "      <td>141.909091</td>\n",
              "    </tr>\n",
              "    <tr>\n",
              "      <th>AveBedrms</th>\n",
              "      <td>20640.0</td>\n",
              "      <td>1.096675</td>\n",
              "      <td>0.473911</td>\n",
              "      <td>0.333333</td>\n",
              "      <td>1.006079</td>\n",
              "      <td>1.048780</td>\n",
              "      <td>1.099526</td>\n",
              "      <td>34.066667</td>\n",
              "    </tr>\n",
              "    <tr>\n",
              "      <th>Population</th>\n",
              "      <td>20640.0</td>\n",
              "      <td>1425.476744</td>\n",
              "      <td>1132.462122</td>\n",
              "      <td>3.000000</td>\n",
              "      <td>787.000000</td>\n",
              "      <td>1166.000000</td>\n",
              "      <td>1725.000000</td>\n",
              "      <td>35682.000000</td>\n",
              "    </tr>\n",
              "    <tr>\n",
              "      <th>AveOccup</th>\n",
              "      <td>20640.0</td>\n",
              "      <td>3.070655</td>\n",
              "      <td>10.386050</td>\n",
              "      <td>0.692308</td>\n",
              "      <td>2.429741</td>\n",
              "      <td>2.818116</td>\n",
              "      <td>3.282261</td>\n",
              "      <td>1243.333333</td>\n",
              "    </tr>\n",
              "    <tr>\n",
              "      <th>Latitude</th>\n",
              "      <td>20640.0</td>\n",
              "      <td>35.631861</td>\n",
              "      <td>2.135952</td>\n",
              "      <td>32.540000</td>\n",
              "      <td>33.930000</td>\n",
              "      <td>34.260000</td>\n",
              "      <td>37.710000</td>\n",
              "      <td>41.950000</td>\n",
              "    </tr>\n",
              "    <tr>\n",
              "      <th>Longitude</th>\n",
              "      <td>20640.0</td>\n",
              "      <td>-119.569704</td>\n",
              "      <td>2.003532</td>\n",
              "      <td>-124.350000</td>\n",
              "      <td>-121.800000</td>\n",
              "      <td>-118.490000</td>\n",
              "      <td>-118.010000</td>\n",
              "      <td>-114.310000</td>\n",
              "    </tr>\n",
              "  </tbody>\n",
              "</table>\n",
              "</div>\n",
              "      <button class=\"colab-df-convert\" onclick=\"convertToInteractive('df-84da0aed-3526-4616-a85b-8a69f80c549f')\"\n",
              "              title=\"Convert this dataframe to an interactive table.\"\n",
              "              style=\"display:none;\">\n",
              "        \n",
              "  <svg xmlns=\"http://www.w3.org/2000/svg\" height=\"24px\"viewBox=\"0 0 24 24\"\n",
              "       width=\"24px\">\n",
              "    <path d=\"M0 0h24v24H0V0z\" fill=\"none\"/>\n",
              "    <path d=\"M18.56 5.44l.94 2.06.94-2.06 2.06-.94-2.06-.94-.94-2.06-.94 2.06-2.06.94zm-11 1L8.5 8.5l.94-2.06 2.06-.94-2.06-.94L8.5 2.5l-.94 2.06-2.06.94zm10 10l.94 2.06.94-2.06 2.06-.94-2.06-.94-.94-2.06-.94 2.06-2.06.94z\"/><path d=\"M17.41 7.96l-1.37-1.37c-.4-.4-.92-.59-1.43-.59-.52 0-1.04.2-1.43.59L10.3 9.45l-7.72 7.72c-.78.78-.78 2.05 0 2.83L4 21.41c.39.39.9.59 1.41.59.51 0 1.02-.2 1.41-.59l7.78-7.78 2.81-2.81c.8-.78.8-2.07 0-2.86zM5.41 20L4 18.59l7.72-7.72 1.47 1.35L5.41 20z\"/>\n",
              "  </svg>\n",
              "      </button>\n",
              "      \n",
              "  <style>\n",
              "    .colab-df-container {\n",
              "      display:flex;\n",
              "      flex-wrap:wrap;\n",
              "      gap: 12px;\n",
              "    }\n",
              "\n",
              "    .colab-df-convert {\n",
              "      background-color: #E8F0FE;\n",
              "      border: none;\n",
              "      border-radius: 50%;\n",
              "      cursor: pointer;\n",
              "      display: none;\n",
              "      fill: #1967D2;\n",
              "      height: 32px;\n",
              "      padding: 0 0 0 0;\n",
              "      width: 32px;\n",
              "    }\n",
              "\n",
              "    .colab-df-convert:hover {\n",
              "      background-color: #E2EBFA;\n",
              "      box-shadow: 0px 1px 2px rgba(60, 64, 67, 0.3), 0px 1px 3px 1px rgba(60, 64, 67, 0.15);\n",
              "      fill: #174EA6;\n",
              "    }\n",
              "\n",
              "    [theme=dark] .colab-df-convert {\n",
              "      background-color: #3B4455;\n",
              "      fill: #D2E3FC;\n",
              "    }\n",
              "\n",
              "    [theme=dark] .colab-df-convert:hover {\n",
              "      background-color: #434B5C;\n",
              "      box-shadow: 0px 1px 3px 1px rgba(0, 0, 0, 0.15);\n",
              "      filter: drop-shadow(0px 1px 2px rgba(0, 0, 0, 0.3));\n",
              "      fill: #FFFFFF;\n",
              "    }\n",
              "  </style>\n",
              "\n",
              "      <script>\n",
              "        const buttonEl =\n",
              "          document.querySelector('#df-84da0aed-3526-4616-a85b-8a69f80c549f button.colab-df-convert');\n",
              "        buttonEl.style.display =\n",
              "          google.colab.kernel.accessAllowed ? 'block' : 'none';\n",
              "\n",
              "        async function convertToInteractive(key) {\n",
              "          const element = document.querySelector('#df-84da0aed-3526-4616-a85b-8a69f80c549f');\n",
              "          const dataTable =\n",
              "            await google.colab.kernel.invokeFunction('convertToInteractive',\n",
              "                                                     [key], {});\n",
              "          if (!dataTable) return;\n",
              "\n",
              "          const docLinkHtml = 'Like what you see? Visit the ' +\n",
              "            '<a target=\"_blank\" href=https://colab.research.google.com/notebooks/data_table.ipynb>data table notebook</a>'\n",
              "            + ' to learn more about interactive tables.';\n",
              "          element.innerHTML = '';\n",
              "          dataTable['output_type'] = 'display_data';\n",
              "          await google.colab.output.renderOutput(dataTable, element);\n",
              "          const docLink = document.createElement('div');\n",
              "          docLink.innerHTML = docLinkHtml;\n",
              "          element.appendChild(docLink);\n",
              "        }\n",
              "      </script>\n",
              "    </div>\n",
              "  </div>\n",
              "  "
            ]
          },
          "metadata": {},
          "execution_count": 25
        }
      ]
    },
    {
      "cell_type": "markdown",
      "source": [
        "<li> O resumo do conjunto de dados dataWine = data parece correto, no primeiro momento não parecem ocorrer anormalidades nos dados(valores inválidos/negativos).<li> Todos os dados parecem estar dentro do intervalo(com escalas diferentes, o que precisa de padronização)."
      ],
      "metadata": {
        "id": "sWpcRQuzgeUp"
      }
    },
    {
      "cell_type": "markdown",
      "metadata": {
        "id": "79DHt349iCmW"
      },
      "source": [
        "##**Aprendendo sobre o atributo** ***HouseAge***"
      ]
    },
    {
      "cell_type": "markdown",
      "source": [
        "Transformando os dados para o formato numérico"
      ],
      "metadata": {
        "id": "q12CKCZswmvk"
      }
    },
    {
      "cell_type": "code",
      "source": [
        "df['HouseAge']=pd.to_numeric(df['HouseAge'],errors='coerce')"
      ],
      "metadata": {
        "id": "8n9_oVc1wshW"
      },
      "execution_count": 28,
      "outputs": []
    },
    {
      "cell_type": "code",
      "source": [
        "data.HouseAge.value_counts().sort_index()"
      ],
      "metadata": {
        "colab": {
          "base_uri": "https://localhost:8080/"
        },
        "id": "u4SVC59Ziw5W",
        "outputId": "98190c22-90bf-47ff-c958-54a1f6a6b9ea"
      },
      "execution_count": 29,
      "outputs": [
        {
          "output_type": "execute_result",
          "data": {
            "text/plain": [
              "1.0        4\n",
              "2.0       58\n",
              "3.0       62\n",
              "4.0      191\n",
              "5.0      244\n",
              "6.0      160\n",
              "7.0      175\n",
              "8.0      206\n",
              "9.0      205\n",
              "10.0     264\n",
              "11.0     254\n",
              "12.0     238\n",
              "13.0     302\n",
              "14.0     412\n",
              "15.0     512\n",
              "16.0     771\n",
              "17.0     698\n",
              "18.0     570\n",
              "19.0     502\n",
              "20.0     465\n",
              "21.0     446\n",
              "22.0     399\n",
              "23.0     448\n",
              "24.0     478\n",
              "25.0     566\n",
              "26.0     619\n",
              "27.0     488\n",
              "28.0     471\n",
              "29.0     461\n",
              "30.0     476\n",
              "31.0     458\n",
              "32.0     565\n",
              "33.0     615\n",
              "34.0     689\n",
              "35.0     824\n",
              "36.0     862\n",
              "37.0     537\n",
              "38.0     394\n",
              "39.0     369\n",
              "40.0     304\n",
              "41.0     296\n",
              "42.0     368\n",
              "43.0     353\n",
              "44.0     356\n",
              "45.0     294\n",
              "46.0     245\n",
              "47.0     198\n",
              "48.0     177\n",
              "49.0     134\n",
              "50.0     136\n",
              "51.0      48\n",
              "52.0    1273\n",
              "Name: HouseAge, dtype: int64"
            ]
          },
          "metadata": {},
          "execution_count": 29
        }
      ]
    },
    {
      "cell_type": "markdown",
      "source": [
        "Gráfico de barras do atributo HouseAge das 25 primeiras amostras"
      ],
      "metadata": {
        "id": "nDo3XVPlkcUp"
      }
    },
    {
      "cell_type": "code",
      "source": [
        "data['HouseAge'].value_counts().head(25).plot.bar()"
      ],
      "metadata": {
        "colab": {
          "base_uri": "https://localhost:8080/",
          "height": 295
        },
        "id": "SEq7Iv1SkbTV",
        "outputId": "71e8fcdb-2cfb-4f80-b2c3-6f46e627c3d8"
      },
      "execution_count": 30,
      "outputs": [
        {
          "output_type": "execute_result",
          "data": {
            "text/plain": [
              "<matplotlib.axes._subplots.AxesSubplot at 0x7f968a897bd0>"
            ]
          },
          "metadata": {},
          "execution_count": 30
        },
        {
          "output_type": "display_data",
          "data": {
            "text/plain": [
              "<Figure size 432x288 with 1 Axes>"
            ],
            "image/png": "[encoded data removed]"
          },
          "metadata": {
            "needs_background": "light"
          }
        }
      ]
    },
    {
      "cell_type": "markdown",
      "source": [
        ""
      ],
      "metadata": {
        "id": "Sz89w43VqC4M"
      }
    },
    {
      "cell_type": "code",
      "source": [
        "sns.countplot(x='HouseAge', data=data)"
      ],
      "metadata": {
        "colab": {
          "base_uri": "https://localhost:8080/",
          "height": 296
        },
        "id": "Ekh1qAhRmAW9",
        "outputId": "37a4b41e-a5cc-439a-a8fa-c95baf54d1c1"
      },
      "execution_count": 31,
      "outputs": [
        {
          "output_type": "execute_result",
          "data": {
            "text/plain": [
              "<matplotlib.axes._subplots.AxesSubplot at 0x7f968a79ea10>"
            ]
          },
          "metadata": {},
          "execution_count": 31
        },
        {
          "output_type": "display_data",
          "data": {
            "text/plain": [
              "<Figure size 432x288 with 1 Axes>"
            ],
            "image/png": "[encoded data removed]"
          },
          "metadata": {
            "needs_background": "light"
          }
        }
      ]
    },
    {
      "cell_type": "code",
      "source": [
        "sns.distplot(data['HouseAge'])"
      ],
      "metadata": {
        "colab": {
          "base_uri": "https://localhost:8080/",
          "height": 351
        },
        "id": "cMCnZCYPwQ8H",
        "outputId": "c5b81047-38d1-47e7-b4cb-50a212997304"
      },
      "execution_count": 32,
      "outputs": [
        {
          "output_type": "stream",
          "name": "stderr",
          "text": [
            "/usr/local/lib/python3.7/dist-packages/seaborn/distributions.py:2619: FutureWarning: `distplot` is a deprecated function and will be removed in a future version. Please adapt your code to use either `displot` (a figure-level function with similar flexibility) or `histplot` (an axes-level function for histograms).\n",
            "  warnings.warn(msg, FutureWarning)\n"
          ]
        },
        {
          "output_type": "execute_result",
          "data": {
            "text/plain": [
              "<matplotlib.axes._subplots.AxesSubplot at 0x7f968afe4a10>"
            ]
          },
          "metadata": {},
          "execution_count": 32
        },
        {
          "output_type": "display_data",
          "data": {
            "text/plain": [
              "<Figure size 432x288 with 1 Axes>"
            ],
            "image/png": "[encoded data removed]"
          },
          "metadata": {
            "needs_background": "light"
          }
        }
      ]
    },
    {
      "cell_type": "markdown",
      "source": [
        "O Countplot é um gráfico em formato de barra, onde “x” é o atributo escolhido, e “y” é a quantidade de vezes que esse atributo aparece."
      ],
      "metadata": {
        "id": "ZG6iPUuhzcqi"
      }
    },
    {
      "cell_type": "code",
      "source": [
        "palette_genre_cubehelix = sns.cubehelix_palette(15,reverse=True)\n",
        "fig = plt.figure(figsize=(20,8))\n",
        "sns.countplot(x=data['HouseAge'], order = data['HouseAge'].value_counts().index ,palette=palette_genre_cubehelix,data=data)\n",
        "plt.xlim(-0.5,30.5)\n",
        "plt.xlabel('')\n",
        "plt.ylabel('Quantidade',fontsize=15)\n",
        "plt.xticks(fontsize=13)\n",
        "plt.yticks(fontsize=13)\n",
        "plt.title('As 30 medidas mais frequentes do atributo HouseAge',fontsize=21)"
      ],
      "metadata": {
        "colab": {
          "base_uri": "https://localhost:8080/",
          "height": 424
        },
        "id": "0UCog17pze3e",
        "outputId": "dd5fa89d-d1f1-449b-ed9e-d67e9812ce51"
      },
      "execution_count": 33,
      "outputs": [
        {
          "output_type": "execute_result",
          "data": {
            "text/plain": [
              "Text(0.5, 1.0, 'As 30 medidas mais frequentes do atributo HouseAge')"
            ]
          },
          "metadata": {},
          "execution_count": 33
        },
        {
          "output_type": "display_data",
          "data": {
            "text/plain": [
              "<Figure size 1440x576 with 1 Axes>"
            ],
            "image/png": "[encoded data removed]"
          },
          "metadata": {
            "needs_background": "light"
          }
        }
      ]
    },
    {
      "cell_type": "markdown",
      "source": [
        "Calculando a média aritmética"
      ],
      "metadata": {
        "id": "Ut3ePEScxpN3"
      }
    },
    {
      "cell_type": "code",
      "source": [
        "df[\"HouseAge\"].mean()"
      ],
      "metadata": {
        "colab": {
          "base_uri": "https://localhost:8080/"
        },
        "outputId": "1e3aaf82-51a4-4b10-bb47-3bbbcec3196f",
        "id": "0i-PJv0jBmHL"
      },
      "execution_count": 34,
      "outputs": [
        {
          "output_type": "execute_result",
          "data": {
            "text/plain": [
              "28.639486434108527"
            ]
          },
          "metadata": {},
          "execution_count": 34
        }
      ]
    },
    {
      "cell_type": "code",
      "source": [
        "HOUSEAGE = df[\"HouseAge\"]"
      ],
      "metadata": {
        "id": "0JrAwtEDBmHN"
      },
      "execution_count": 35,
      "outputs": []
    },
    {
      "cell_type": "code",
      "metadata": {
        "colab": {
          "base_uri": "https://localhost:8080/"
        },
        "outputId": "5282aba3-10a2-4695-f0a2-3ca573d4f5fe",
        "id": "hU5H3FMnBmHN"
      },
      "source": [
        "HOUSEAGE.mean()"
      ],
      "execution_count": 37,
      "outputs": [
        {
          "output_type": "execute_result",
          "data": {
            "text/plain": [
              "28.639486434108527"
            ]
          },
          "metadata": {},
          "execution_count": 37
        }
      ]
    },
    {
      "cell_type": "markdown",
      "source": [
        "Média geométrica"
      ],
      "metadata": {
        "id": "5VwDBsmWBmHO"
      }
    },
    {
      "cell_type": "code",
      "source": [
        "gmean(HOUSEAGE)"
      ],
      "metadata": {
        "colab": {
          "base_uri": "https://localhost:8080/"
        },
        "outputId": "cc5701d7-9df2-4665-8ace-cf05ae96a94b",
        "id": "V7FuI1Q9BmHP"
      },
      "execution_count": 38,
      "outputs": [
        {
          "output_type": "execute_result",
          "data": {
            "text/plain": [
              "25.15696336552169"
            ]
          },
          "metadata": {},
          "execution_count": 38
        }
      ]
    },
    {
      "cell_type": "markdown",
      "source": [
        "Média Harmônica"
      ],
      "metadata": {
        "id": "Up59hHMGBmHQ"
      }
    },
    {
      "cell_type": "code",
      "source": [
        "hmean(HOUSEAGE)"
      ],
      "metadata": {
        "colab": {
          "base_uri": "https://localhost:8080/"
        },
        "outputId": "9d8b56bb-d362-4c06-ec36-7519458528bd",
        "id": "6JyrLVwZBmHQ"
      },
      "execution_count": 39,
      "outputs": [
        {
          "output_type": "execute_result",
          "data": {
            "text/plain": [
              "20.38180106154972"
            ]
          },
          "metadata": {},
          "execution_count": 39
        }
      ]
    },
    {
      "cell_type": "markdown",
      "source": [
        "Mediana"
      ],
      "metadata": {
        "id": "RztYGJpBBmHR"
      }
    },
    {
      "cell_type": "code",
      "source": [
        "HOUSEAGE.median()"
      ],
      "metadata": {
        "colab": {
          "base_uri": "https://localhost:8080/"
        },
        "outputId": "0960bd5d-6021-46b8-c1af-5808d18f38a0",
        "id": "bHlbLdOdBmHR"
      },
      "execution_count": 40,
      "outputs": [
        {
          "output_type": "execute_result",
          "data": {
            "text/plain": [
              "29.0"
            ]
          },
          "metadata": {},
          "execution_count": 40
        }
      ]
    },
    {
      "cell_type": "markdown",
      "source": [
        "Moda"
      ],
      "metadata": {
        "id": "8APO0MdBBmHS"
      }
    },
    {
      "cell_type": "code",
      "source": [
        "HOUSEAGE.mode()"
      ],
      "metadata": {
        "colab": {
          "base_uri": "https://localhost:8080/"
        },
        "outputId": "2d840dc6-2d77-4488-885c-10b905fe926b",
        "id": "9mRqDlR2BmHT"
      },
      "execution_count": 41,
      "outputs": [
        {
          "output_type": "execute_result",
          "data": {
            "text/plain": [
              "0    52.0\n",
              "dtype: float64"
            ]
          },
          "metadata": {},
          "execution_count": 41
        }
      ]
    },
    {
      "cell_type": "markdown",
      "source": [
        "*Variância*"
      ],
      "metadata": {
        "id": "CpqnReUPBmHT"
      }
    },
    {
      "cell_type": "code",
      "source": [
        "HOUSEAGE.var()"
      ],
      "metadata": {
        "colab": {
          "base_uri": "https://localhost:8080/"
        },
        "outputId": "803ce37a-569c-49c6-a63e-139b4e4f083d",
        "id": "9WKNtjcNBmHU"
      },
      "execution_count": 42,
      "outputs": [
        {
          "output_type": "execute_result",
          "data": {
            "text/plain": [
              "158.39626040778117"
            ]
          },
          "metadata": {},
          "execution_count": 42
        }
      ]
    },
    {
      "cell_type": "markdown",
      "source": [
        "Desvio padrão"
      ],
      "metadata": {
        "id": "u-0pd6Z6BmHU"
      }
    },
    {
      "cell_type": "code",
      "source": [
        "HOUSEAGE.std()"
      ],
      "metadata": {
        "colab": {
          "base_uri": "https://localhost:8080/"
        },
        "outputId": "75394071-717a-4ea7-e0cb-2b7825a4f70b",
        "id": "gpgusvAOBmHV"
      },
      "execution_count": 43,
      "outputs": [
        {
          "output_type": "execute_result",
          "data": {
            "text/plain": [
              "12.585557612111637"
            ]
          },
          "metadata": {},
          "execution_count": 43
        }
      ]
    },
    {
      "cell_type": "markdown",
      "source": [
        "Valor máximo"
      ],
      "metadata": {
        "id": "HhKaxWemBmHV"
      }
    },
    {
      "cell_type": "code",
      "source": [
        "HOUSEAGE.max()"
      ],
      "metadata": {
        "colab": {
          "base_uri": "https://localhost:8080/"
        },
        "outputId": "bfccffe9-bc10-42e4-e6ac-71ce3b7ac577",
        "id": "KwjFQljsBmHW"
      },
      "execution_count": 44,
      "outputs": [
        {
          "output_type": "execute_result",
          "data": {
            "text/plain": [
              "52.0"
            ]
          },
          "metadata": {},
          "execution_count": 44
        }
      ]
    },
    {
      "cell_type": "markdown",
      "source": [
        "Valor mínimo"
      ],
      "metadata": {
        "id": "8bS3cGCZBmHW"
      }
    },
    {
      "cell_type": "code",
      "source": [
        "HOUSEAGE.min()"
      ],
      "metadata": {
        "colab": {
          "base_uri": "https://localhost:8080/"
        },
        "outputId": "e66ea7dc-dccd-4aff-b951-86d7d49b8cf7",
        "id": "yc6Ap_ajBmHX"
      },
      "execution_count": 45,
      "outputs": [
        {
          "output_type": "execute_result",
          "data": {
            "text/plain": [
              "1.0"
            ]
          },
          "metadata": {},
          "execution_count": 45
        }
      ]
    },
    {
      "cell_type": "markdown",
      "source": [
        "MEDIDAS DE ASSIMETRIA"
      ],
      "metadata": {
        "id": "Qpf9jDokBmHX"
      }
    },
    {
      "cell_type": "markdown",
      "source": [
        "Função para calcular estatísticas"
      ],
      "metadata": {
        "id": "-KyZwElDBmHY"
      }
    },
    {
      "cell_type": "code",
      "metadata": {
        "id": "2hNmOD4IBmHY"
      },
      "source": [
        "def calcula_estatisticas(data):\n",
        "  mean = round(np.mean(data),2)\n",
        "  mode = round(stats.mode(data,)[0][0],2)\n",
        "  median = round(np.median(data),2)\n",
        "  var = round(np.var(data),2)\n",
        "  std = round(np.std(data),2)\n",
        "  coef_pearson = round(stats.skew(data),2)\n",
        "  coef_kurtosis = round(kurtosis(data),2)\n",
        "  msg = print(\"Media: {}\\nModa: {}\\nMediana: {}\\nVariância: {}\\nDesvio Padrão: {}\\nCoeficiente Person: {}\\nCoeficiente de Kurtosi: {}\".format(mean,median,mode,var,std,coef_pearson,coef_kurtosis))\n",
        "  return msg"
      ],
      "execution_count": 46,
      "outputs": []
    },
    {
      "cell_type": "code",
      "source": [
        "so = df[\"HouseAge\"]"
      ],
      "metadata": {
        "id": "96HXoejaBmHZ"
      },
      "execution_count": 48,
      "outputs": []
    },
    {
      "cell_type": "code",
      "source": [
        "calcula_estatisticas(so)"
      ],
      "metadata": {
        "colab": {
          "base_uri": "https://localhost:8080/"
        },
        "outputId": "9b49f830-2ec6-4a21-af9a-751d4baae3cf",
        "id": "s8NXkvDjBmHZ"
      },
      "execution_count": 49,
      "outputs": [
        {
          "output_type": "stream",
          "name": "stdout",
          "text": [
            "Media: 28.64\n",
            "Moda: 29.0\n",
            "Mediana: 52.0\n",
            "Variância: 158.39\n",
            "Desvio Padrão: 12.59\n",
            "Coeficiente Person: 0.06\n",
            "Coeficiente de Kurtosi: -0.8\n"
          ]
        }
      ]
    },
    {
      "cell_type": "markdown",
      "source": [
        "Como nesse caso a média, a moda e a mediana tem valores bem próximos, temos uma  Distribuição  quase Simétrica."
      ],
      "metadata": {
        "id": "bwGcXHn0BmHa"
      }
    },
    {
      "cell_type": "code",
      "metadata": {
        "colab": {
          "base_uri": "https://localhost:8080/",
          "height": 368
        },
        "outputId": "c112f92c-aa01-42d6-e8ae-7664679f9ef3",
        "id": "tKfUJ7EYBmHa"
      },
      "source": [
        "fig = plt.figure(figsize=(8, 4))\n",
        "ax = sns.distplot(so,rug=True,kde=True,hist=False)\n",
        "\n",
        "ax.annotate('Moda', xy=(29.0,0.01), xytext=(1, 0.02),arrowprops={'arrowstyle': '-'})         \n",
        "ax.annotate('Mediana', xy=(52.0, 0.01), xytext=(3, 0.03),arrowprops={'arrowstyle': '-'})\n",
        "ax.annotate('Média', xy=(28.64, 0.01), xytext=(4.5, 0.02),arrowprops={'arrowstyle': '-'})\n",
        "plt.show()"
      ],
      "execution_count": 50,
      "outputs": [
        {
          "output_type": "stream",
          "name": "stderr",
          "text": [
            "/usr/local/lib/python3.7/dist-packages/seaborn/distributions.py:2619: FutureWarning: `distplot` is a deprecated function and will be removed in a future version. Please adapt your code to use either `displot` (a figure-level function with similar flexibility) or `kdeplot` (an axes-level function for kernel density plots).\n",
            "  warnings.warn(msg, FutureWarning)\n",
            "/usr/local/lib/python3.7/dist-packages/seaborn/distributions.py:2103: FutureWarning: The `axis` variable is no longer used and will be removed. Instead, assign variables directly to `x` or `y`.\n",
            "  warnings.warn(msg, FutureWarning)\n"
          ]
        },
        {
          "output_type": "display_data",
          "data": {
            "text/plain": [
              "<Figure size 576x288 with 1 Axes>"
            ],
            "image/png": "[encoded data removed]"
          },
          "metadata": {
            "needs_background": "light"
          }
        }
      ]
    },
    {
      "cell_type": "markdown",
      "metadata": {
        "id": "SvtnBh9_BmHb"
      },
      "source": [
        "Asimétrica negativa / à esquerda - Média < Moda < Mediana\n",
        "\n",
        "Coeficiente de Pearson - O valor é próximo de zero a distribuição é simétrica.\n",
        "\n",
        "Coeficiente de Curtose - O valor é menor que 3 o grau de achatamento da distribuição normal é platicúrtica (mais achatada no platô)"
      ]
    },
    {
      "cell_type": "markdown",
      "source": [
        "Correlação entre diferentes recursos usando o mapa de correlação"
      ],
      "metadata": {
        "id": "W4eptl89ZKWA"
      }
    },
    {
      "cell_type": "code",
      "source": [
        "correlation= data.corr()\n",
        "mask = np.array(correlation)\n",
        "mask[np.tril_indices_from(mask)] = False\n",
        "fig=plt.gcf()\n",
        "fig.set_size_inches(10,10)\n",
        "sns.heatmap(data=correlation,mask=mask,square=True,annot=True,cbar=True,cmap=\"YlGnBu\")"
      ],
      "metadata": {
        "colab": {
          "base_uri": "https://localhost:8080/",
          "height": 595
        },
        "id": "AOiP8mIxYkhZ",
        "outputId": "aee1a961-11c9-4728-f0ee-42554cbdca24"
      },
      "execution_count": 51,
      "outputs": [
        {
          "output_type": "execute_result",
          "data": {
            "text/plain": [
              "<matplotlib.axes._subplots.AxesSubplot at 0x7f968500e510>"
            ]
          },
          "metadata": {},
          "execution_count": 51
        },
        {
          "output_type": "display_data",
          "data": {
            "text/plain": [
              "<Figure size 720x720 with 2 Axes>"
            ],
            "image/png": "[encoded data removed]"
          },
          "metadata": {
            "needs_background": "light"
          }
        }
      ]
    },
    {
      "cell_type": "code",
      "source": [
        "correlation['HouseAge'].sort_values(ascending=False)"
      ],
      "metadata": {
        "colab": {
          "base_uri": "https://localhost:8080/"
        },
        "id": "DcjckxBXYzZJ",
        "outputId": "44271229-faa0-41b8-a324-97da8543118a"
      },
      "execution_count": 53,
      "outputs": [
        {
          "output_type": "execute_result",
          "data": {
            "text/plain": [
              "HouseAge      1.000000\n",
              "AveOccup      0.013191\n",
              "Latitude      0.011173\n",
              "AveBedrms    -0.077747\n",
              "Longitude    -0.108197\n",
              "MedInc       -0.119034\n",
              "AveRooms     -0.153277\n",
              "Population   -0.296244\n",
              "Name: HouseAge, dtype: float64"
            ]
          },
          "metadata": {},
          "execution_count": 53
        }
      ]
    },
    {
      "cell_type": "markdown",
      "source": [
        "Fatores que mais afetam  o atributo idade da casa (HouseAge): MedInc e AveRooms\n",
        "Fatores que afetam menos o atributo idade da casa (HouseAge): Population"
      ],
      "metadata": {
        "id": "HUcgE5qQZcWE"
      }
    },
    {
      "cell_type": "markdown",
      "metadata": {
        "id": "RJojHJ9XJtAe"
      },
      "source": [
        "##**Aprendendo sobre o atributo** ***Population***\n",
        "\n",
        "*   Item da lista\n",
        "*   Item da lista\n",
        "\n"
      ]
    },
    {
      "cell_type": "markdown",
      "source": [
        "Transformando os dados para o formato numérico"
      ],
      "metadata": {
        "id": "4uVh18cBJtAo"
      }
    },
    {
      "cell_type": "code",
      "source": [
        "df['Population']=pd.to_numeric(df['Population'],errors='coerce')"
      ],
      "metadata": {
        "id": "Yy13yx2-JtAo"
      },
      "execution_count": 54,
      "outputs": []
    },
    {
      "cell_type": "code",
      "source": [
        "data.Population.value_counts().sort_index()"
      ],
      "metadata": {
        "colab": {
          "base_uri": "https://localhost:8080/"
        },
        "outputId": "4ff8b783-d538-433c-e0a9-32d5dcf22d41",
        "id": "Wl-JobWaJtAp"
      },
      "execution_count": 56,
      "outputs": [
        {
          "output_type": "execute_result",
          "data": {
            "text/plain": [
              "3.0        1\n",
              "5.0        1\n",
              "6.0        1\n",
              "8.0        4\n",
              "9.0        2\n",
              "          ..\n",
              "15507.0    1\n",
              "16122.0    1\n",
              "16305.0    1\n",
              "28566.0    1\n",
              "35682.0    1\n",
              "Name: Population, Length: 3888, dtype: int64"
            ]
          },
          "metadata": {},
          "execution_count": 56
        }
      ]
    },
    {
      "cell_type": "markdown",
      "source": [
        "Gráfico de barras do atributo ash das 25 primeiras amostras"
      ],
      "metadata": {
        "id": "0pxu2zRRJtAp"
      }
    },
    {
      "cell_type": "code",
      "source": [
        "data['Population'].value_counts().head(25).plot.bar()"
      ],
      "metadata": {
        "colab": {
          "base_uri": "https://localhost:8080/",
          "height": 307
        },
        "outputId": "850acacf-e365-4122-b436-87a19743969e",
        "id": "ZGGp5zGbJtAp"
      },
      "execution_count": 57,
      "outputs": [
        {
          "output_type": "execute_result",
          "data": {
            "text/plain": [
              "<matplotlib.axes._subplots.AxesSubplot at 0x7f9685051b10>"
            ]
          },
          "metadata": {},
          "execution_count": 57
        },
        {
          "output_type": "display_data",
          "data": {
            "text/plain": [
              "<Figure size 432x288 with 1 Axes>"
            ],
            "image/png": "[encoded data removed]"
          },
          "metadata": {
            "needs_background": "light"
          }
        }
      ]
    },
    {
      "cell_type": "markdown",
      "source": [
        ""
      ],
      "metadata": {
        "id": "yPcj03_2JtAp"
      }
    },
    {
      "cell_type": "code",
      "source": [
        "sns.countplot(x='Population', data=data)"
      ],
      "metadata": {
        "colab": {
          "base_uri": "https://localhost:8080/",
          "height": 296
        },
        "outputId": "9f009000-f152-44aa-9858-027c7c9d0d6b",
        "id": "psvl0-IAJtAp"
      },
      "execution_count": 58,
      "outputs": [
        {
          "output_type": "execute_result",
          "data": {
            "text/plain": [
              "<matplotlib.axes._subplots.AxesSubplot at 0x7f968500f8d0>"
            ]
          },
          "metadata": {},
          "execution_count": 58
        },
        {
          "output_type": "display_data",
          "data": {
            "text/plain": [
              "<Figure size 432x288 with 1 Axes>"
            ],
            "image/png": "[encoded data removed]"
          },
          "metadata": {
            "needs_background": "light"
          }
        }
      ]
    },
    {
      "cell_type": "code",
      "source": [
        "sns.distplot(data['Population'])"
      ],
      "metadata": {
        "colab": {
          "base_uri": "https://localhost:8080/",
          "height": 351
        },
        "outputId": "fc355541-d18e-4118-fccb-6c4b90729656",
        "id": "NqpvG2OvJtAp"
      },
      "execution_count": 59,
      "outputs": [
        {
          "output_type": "stream",
          "name": "stderr",
          "text": [
            "/usr/local/lib/python3.7/dist-packages/seaborn/distributions.py:2619: FutureWarning: `distplot` is a deprecated function and will be removed in a future version. Please adapt your code to use either `displot` (a figure-level function with similar flexibility) or `histplot` (an axes-level function for histograms).\n",
            "  warnings.warn(msg, FutureWarning)\n"
          ]
        },
        {
          "output_type": "execute_result",
          "data": {
            "text/plain": [
              "<matplotlib.axes._subplots.AxesSubplot at 0x7f96849f9c50>"
            ]
          },
          "metadata": {},
          "execution_count": 59
        },
        {
          "output_type": "display_data",
          "data": {
            "text/plain": [
              "<Figure size 432x288 with 1 Axes>"
            ],
            "image/png": "[encoded data removed]"
          },
          "metadata": {
            "needs_background": "light"
          }
        }
      ]
    },
    {
      "cell_type": "markdown",
      "source": [
        "O Countplot é um gráfico em formato de barra, onde “x” é o atributo escolhido, e “y” é a quantidade de vezes que esse atributo aparece."
      ],
      "metadata": {
        "id": "yHC7Ld-1JtAp"
      }
    },
    {
      "cell_type": "code",
      "source": [
        "palette_genre_cubehelix = sns.cubehelix_palette(15,reverse=True)\n",
        "fig = plt.figure(figsize=(20,8))\n",
        "sns.countplot(x=data['Population'], order = data['Population'].value_counts().index ,palette=palette_genre_cubehelix,data=data)\n",
        "plt.xlim(-0.5,30.5)\n",
        "plt.xlabel('')\n",
        "plt.ylabel('Quantidade',fontsize=15)\n",
        "plt.xticks(fontsize=13)\n",
        "plt.yticks(fontsize=13)\n",
        "plt.title('As 30 medidas mais frequentes do atributo Population',fontsize=21)"
      ],
      "metadata": {
        "colab": {
          "base_uri": "https://localhost:8080/",
          "height": 429
        },
        "outputId": "4b29e29c-1b7c-42c9-b52a-9777fd2b2893",
        "id": "B7RhKsg1JtAq"
      },
      "execution_count": 60,
      "outputs": [
        {
          "output_type": "execute_result",
          "data": {
            "text/plain": [
              "Text(0.5, 1.0, 'As 30 medidas mais frequentes do atributo Population')"
            ]
          },
          "metadata": {},
          "execution_count": 60
        },
        {
          "output_type": "display_data",
          "data": {
            "text/plain": [
              "<Figure size 1440x576 with 1 Axes>"
            ],
            "image/png": "[encoded data removed]"
          },
          "metadata": {
            "needs_background": "light"
          }
        }
      ]
    },
    {
      "cell_type": "markdown",
      "source": [
        "Calculando a média aritmética"
      ],
      "metadata": {
        "id": "oo0buYESJtAr"
      }
    },
    {
      "cell_type": "code",
      "source": [
        "df[\"Population\"].mean()"
      ],
      "metadata": {
        "colab": {
          "base_uri": "https://localhost:8080/"
        },
        "outputId": "d5d9349f-7cc8-4667-f224-5238d525a8de",
        "id": "wq4V7PpTJtAt"
      },
      "execution_count": 61,
      "outputs": [
        {
          "output_type": "execute_result",
          "data": {
            "text/plain": [
              "1425.4767441860465"
            ]
          },
          "metadata": {},
          "execution_count": 61
        }
      ]
    },
    {
      "cell_type": "code",
      "source": [
        "POPULATION = df[\"Population\"]"
      ],
      "metadata": {
        "id": "PSXPam4MVg5m"
      },
      "execution_count": 62,
      "outputs": []
    },
    {
      "cell_type": "code",
      "metadata": {
        "colab": {
          "base_uri": "https://localhost:8080/"
        },
        "outputId": "e9e73e29-44ed-4c27-bdd0-07df5d9593e5",
        "id": "2luGtiIlVg5n"
      },
      "source": [
        "POPULATION.mean()"
      ],
      "execution_count": 63,
      "outputs": [
        {
          "output_type": "execute_result",
          "data": {
            "text/plain": [
              "1425.4767441860465"
            ]
          },
          "metadata": {},
          "execution_count": 63
        }
      ]
    },
    {
      "cell_type": "markdown",
      "source": [
        "Média geométrica"
      ],
      "metadata": {
        "id": "vH3LtYVWJtAu"
      }
    },
    {
      "cell_type": "code",
      "source": [
        "gmean(POPULATION)"
      ],
      "metadata": {
        "colab": {
          "base_uri": "https://localhost:8080/"
        },
        "outputId": "8219e4a3-8a11-403b-c6a9-862798e72bd9",
        "id": "DoOWtGJyJtAu"
      },
      "execution_count": 64,
      "outputs": [
        {
          "output_type": "execute_result",
          "data": {
            "text/plain": [
              "1123.4007494496084"
            ]
          },
          "metadata": {},
          "execution_count": 64
        }
      ]
    },
    {
      "cell_type": "markdown",
      "source": [
        "Média Harmônica"
      ],
      "metadata": {
        "id": "361TI6uXJtAu"
      }
    },
    {
      "cell_type": "code",
      "source": [
        "hmean(POPULATION)"
      ],
      "metadata": {
        "colab": {
          "base_uri": "https://localhost:8080/"
        },
        "outputId": "51f78eac-12d7-447c-fa67-fe0e0da59fa9",
        "id": "b9uAyRhKJtAu"
      },
      "execution_count": 65,
      "outputs": [
        {
          "output_type": "execute_result",
          "data": {
            "text/plain": [
              "715.4096149957797"
            ]
          },
          "metadata": {},
          "execution_count": 65
        }
      ]
    },
    {
      "cell_type": "markdown",
      "source": [
        "Mediana"
      ],
      "metadata": {
        "id": "rp5dW2nQJtAv"
      }
    },
    {
      "cell_type": "code",
      "source": [
        "POPULATION.median()"
      ],
      "metadata": {
        "colab": {
          "base_uri": "https://localhost:8080/"
        },
        "outputId": "1d4b9a43-dab7-421f-fea2-e7587ea63b8a",
        "id": "VfVJnaZQJtAv"
      },
      "execution_count": 66,
      "outputs": [
        {
          "output_type": "execute_result",
          "data": {
            "text/plain": [
              "1166.0"
            ]
          },
          "metadata": {},
          "execution_count": 66
        }
      ]
    },
    {
      "cell_type": "markdown",
      "source": [
        "Moda"
      ],
      "metadata": {
        "id": "lQhGombRJtAv"
      }
    },
    {
      "cell_type": "code",
      "source": [
        "POPULATION.mode()"
      ],
      "metadata": {
        "colab": {
          "base_uri": "https://localhost:8080/"
        },
        "outputId": "34469cba-fb0c-4262-af52-d1e734a0492a",
        "id": "URpdg9MeJtAv"
      },
      "execution_count": 67,
      "outputs": [
        {
          "output_type": "execute_result",
          "data": {
            "text/plain": [
              "0    891.0\n",
              "dtype: float64"
            ]
          },
          "metadata": {},
          "execution_count": 67
        }
      ]
    },
    {
      "cell_type": "markdown",
      "source": [
        "*Variância*"
      ],
      "metadata": {
        "id": "ZuFCP9lPJtAv"
      }
    },
    {
      "cell_type": "code",
      "source": [
        "POPULATION.var()"
      ],
      "metadata": {
        "colab": {
          "base_uri": "https://localhost:8080/"
        },
        "outputId": "fba00a1b-8d30-4733-af95-426d72aeea2c",
        "id": "KJPkVnjkJtAv"
      },
      "execution_count": 68,
      "outputs": [
        {
          "output_type": "execute_result",
          "data": {
            "text/plain": [
              "1282470.4572332504"
            ]
          },
          "metadata": {},
          "execution_count": 68
        }
      ]
    },
    {
      "cell_type": "markdown",
      "source": [
        "Desvio padrão"
      ],
      "metadata": {
        "id": "dt0rYHpiJtAv"
      }
    },
    {
      "cell_type": "code",
      "source": [
        "POPULATION.std()"
      ],
      "metadata": {
        "colab": {
          "base_uri": "https://localhost:8080/"
        },
        "outputId": "e8b3ed9a-891c-4fb5-cd40-8692d620cb31",
        "id": "pZdV4X37JtAv"
      },
      "execution_count": 69,
      "outputs": [
        {
          "output_type": "execute_result",
          "data": {
            "text/plain": [
              "1132.4621217653375"
            ]
          },
          "metadata": {},
          "execution_count": 69
        }
      ]
    },
    {
      "cell_type": "markdown",
      "source": [
        "Valor máximo"
      ],
      "metadata": {
        "id": "vg2bChMkJtAw"
      }
    },
    {
      "cell_type": "code",
      "source": [
        "POPULATION.max()"
      ],
      "metadata": {
        "colab": {
          "base_uri": "https://localhost:8080/"
        },
        "outputId": "8130745d-4044-4e22-ded3-9dc82a2d52a2",
        "id": "WWXDHDIDJtAw"
      },
      "execution_count": 70,
      "outputs": [
        {
          "output_type": "execute_result",
          "data": {
            "text/plain": [
              "35682.0"
            ]
          },
          "metadata": {},
          "execution_count": 70
        }
      ]
    },
    {
      "cell_type": "markdown",
      "source": [
        "Valor mínimo"
      ],
      "metadata": {
        "id": "ywk2lMDjJtAw"
      }
    },
    {
      "cell_type": "code",
      "source": [
        "POPULATION.min()"
      ],
      "metadata": {
        "colab": {
          "base_uri": "https://localhost:8080/"
        },
        "outputId": "89663def-a220-4343-d646-722bc3ff634e",
        "id": "tx-P-XRUJtAw"
      },
      "execution_count": 71,
      "outputs": [
        {
          "output_type": "execute_result",
          "data": {
            "text/plain": [
              "3.0"
            ]
          },
          "metadata": {},
          "execution_count": 71
        }
      ]
    },
    {
      "cell_type": "markdown",
      "source": [
        "MEDIDAS DE ASSIMETRIA"
      ],
      "metadata": {
        "id": "tWoSiRiFJtAw"
      }
    },
    {
      "cell_type": "markdown",
      "source": [
        "Função para calcular estatísticas"
      ],
      "metadata": {
        "id": "ZI89R4ZUJtAw"
      }
    },
    {
      "cell_type": "code",
      "metadata": {
        "id": "t8Juc6bqJtAw"
      },
      "source": [
        "def calcula_estatisticas(data):\n",
        "  mean = round(np.mean(data),2)\n",
        "  mode = round(stats.mode(data,)[0][0],2)\n",
        "  median = round(np.median(data),2)\n",
        "  var = round(np.var(data),2)\n",
        "  std = round(np.std(data),2)\n",
        "  coef_pearson = round(stats.skew(data),2)\n",
        "  coef_kurtosis = round(kurtosis(data),2)\n",
        "  msg = print(\"Media: {}\\nModa: {}\\nMediana: {}\\nVariância: {}\\nDesvio Padrão: {}\\nCoeficiente Person: {}\\nCoeficiente de Kurtosi: {}\".format(mean,median,mode,var,std,coef_pearson,coef_kurtosis))\n",
        "  return msg"
      ],
      "execution_count": 72,
      "outputs": []
    },
    {
      "cell_type": "code",
      "source": [
        "s1 = df[\"Population\"]"
      ],
      "metadata": {
        "id": "jJwUJnrkJtAx"
      },
      "execution_count": 73,
      "outputs": []
    },
    {
      "cell_type": "code",
      "source": [
        "calcula_estatisticas(s1)"
      ],
      "metadata": {
        "colab": {
          "base_uri": "https://localhost:8080/"
        },
        "outputId": "d9c426a7-1aa4-4a82-ccd7-4ba06a55ba4d",
        "id": "xxR5rISsJtAx"
      },
      "execution_count": 74,
      "outputs": [
        {
          "output_type": "stream",
          "name": "stdout",
          "text": [
            "Media: 1425.48\n",
            "Moda: 1166.0\n",
            "Mediana: 891.0\n",
            "Variância: 1282408.32\n",
            "Desvio Padrão: 1132.43\n",
            "Coeficiente Person: 4.94\n",
            "Coeficiente de Kurtosi: 73.54\n"
          ]
        }
      ]
    },
    {
      "cell_type": "markdown",
      "source": [
        "Como nesse caso a média, a moda e a mediana tem valores bem próximos, temos uma  Distribuição  quase Simétrica."
      ],
      "metadata": {
        "id": "n5pZe-KvJtAx"
      }
    },
    {
      "cell_type": "code",
      "metadata": {
        "id": "Rbao4DtGJtAx"
      },
      "source": [
        "fig = plt.figure(figsize=(16, 8))\n",
        "ax = sns.distplot(so,rug=True,kde=True,hist=False)\n",
        "\n",
        "ax.annotate('Moda', xy=(1166,100), xytext=(100, 100),arrowprops={'arrowstyle': '-'})         \n",
        "ax.annotate('Mediana', xy=(891, 100), xytext=(300, 100),arrowprops={'arrowstyle': '-'})\n",
        "ax.annotate('Média', xy=(1425, 100), xytext=(450, 100),arrowprops={'arrowstyle': '-'})\n",
        "plt.show()"
      ],
      "execution_count": null,
      "outputs": []
    },
    {
      "cell_type": "markdown",
      "metadata": {
        "id": "GmwiqCDqJtAx"
      },
      "source": [
        "\n",
        "Coeficiente de Pearson - O valor é próximo de zero a distribuição é simétrica.\n",
        "\n",
        "Coeficiente de Curtose - O valor é menor que 3 o grau de achatamento da distribuição normal é platicúrtica (mais achatada no platô)"
      ]
    },
    {
      "cell_type": "code",
      "source": [
        "correlation['Population'].sort_values(ascending=False)"
      ],
      "metadata": {
        "colab": {
          "base_uri": "https://localhost:8080/"
        },
        "outputId": "b2b4e8f5-eb5e-4361-fe4d-8ce35225ac71",
        "id": "HQ9HidqThnwS"
      },
      "execution_count": 78,
      "outputs": [
        {
          "output_type": "execute_result",
          "data": {
            "text/plain": [
              "Population    1.000000\n",
              "Longitude     0.099773\n",
              "AveOccup      0.069863\n",
              "MedInc        0.004834\n",
              "AveBedrms    -0.066197\n",
              "AveRooms     -0.072213\n",
              "Latitude     -0.108785\n",
              "HouseAge     -0.296244\n",
              "Name: Population, dtype: float64"
            ]
          },
          "metadata": {},
          "execution_count": 78
        }
      ]
    }
  ]
}